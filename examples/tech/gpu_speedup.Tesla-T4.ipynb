{
  "nbformat": 4,
  "nbformat_minor": 0,
  "metadata": {
    "colab": {
      "name": "gpu_speedup.ipynb",
      "provenance": [],
      "collapsed_sections": []
    },
    "kernelspec": {
      "name": "python3",
      "display_name": "Python 3"
    },
    "language_info": {
      "name": "python"
    },
    "accelerator": "GPU",
    "widgets": {
      "application/vnd.jupyter.widget-state+json": {
        "8deb4686344a45ee8370a5eb46f3a527": {
          "model_module": "@jupyter-widgets/controls",
          "model_name": "HBoxModel",
          "model_module_version": "1.5.0",
          "state": {
            "_dom_classes": [],
            "_model_module": "@jupyter-widgets/controls",
            "_model_module_version": "1.5.0",
            "_model_name": "HBoxModel",
            "_view_count": null,
            "_view_module": "@jupyter-widgets/controls",
            "_view_module_version": "1.5.0",
            "_view_name": "HBoxView",
            "box_style": "",
            "children": [
              "IPY_MODEL_fa1c3d597aac46d29364dca0be794252",
              "IPY_MODEL_982bf19692954e559a2721b744701a73",
              "IPY_MODEL_f4de1c8d21ef48779d7bb298b00574fd"
            ],
            "layout": "IPY_MODEL_b55b90df9fc141c8b8b5f7c252e0324a"
          }
        },
        "fa1c3d597aac46d29364dca0be794252": {
          "model_module": "@jupyter-widgets/controls",
          "model_name": "HTMLModel",
          "model_module_version": "1.5.0",
          "state": {
            "_dom_classes": [],
            "_model_module": "@jupyter-widgets/controls",
            "_model_module_version": "1.5.0",
            "_model_name": "HTMLModel",
            "_view_count": null,
            "_view_module": "@jupyter-widgets/controls",
            "_view_module_version": "1.5.0",
            "_view_name": "HTMLView",
            "description": "",
            "description_tooltip": null,
            "layout": "IPY_MODEL_68b44ce8eb4e47dea2712ac4bb3bf91e",
            "placeholder": "​",
            "style": "IPY_MODEL_5d6d16db7e884c299da313a37f9977f8",
            "value": "100%"
          }
        },
        "982bf19692954e559a2721b744701a73": {
          "model_module": "@jupyter-widgets/controls",
          "model_name": "FloatProgressModel",
          "model_module_version": "1.5.0",
          "state": {
            "_dom_classes": [],
            "_model_module": "@jupyter-widgets/controls",
            "_model_module_version": "1.5.0",
            "_model_name": "FloatProgressModel",
            "_view_count": null,
            "_view_module": "@jupyter-widgets/controls",
            "_view_module_version": "1.5.0",
            "_view_name": "ProgressView",
            "bar_style": "success",
            "description": "",
            "description_tooltip": null,
            "layout": "IPY_MODEL_104b5a0e06884dc9801458884631a9a2",
            "max": 480,
            "min": 0,
            "orientation": "horizontal",
            "style": "IPY_MODEL_6049abce90424989b7019c2c232c302f",
            "value": 480
          }
        },
        "f4de1c8d21ef48779d7bb298b00574fd": {
          "model_module": "@jupyter-widgets/controls",
          "model_name": "HTMLModel",
          "model_module_version": "1.5.0",
          "state": {
            "_dom_classes": [],
            "_model_module": "@jupyter-widgets/controls",
            "_model_module_version": "1.5.0",
            "_model_name": "HTMLModel",
            "_view_count": null,
            "_view_module": "@jupyter-widgets/controls",
            "_view_module_version": "1.5.0",
            "_view_name": "HTMLView",
            "description": "",
            "description_tooltip": null,
            "layout": "IPY_MODEL_297a2e14bc8249068bf802a32f19b058",
            "placeholder": "​",
            "style": "IPY_MODEL_d2776ef613d7496b9d433efc61cfd2e7",
            "value": " 480/480 [1:11:37&lt;00:00, 18.70s/it]"
          }
        },
        "b55b90df9fc141c8b8b5f7c252e0324a": {
          "model_module": "@jupyter-widgets/base",
          "model_name": "LayoutModel",
          "model_module_version": "1.2.0",
          "state": {
            "_model_module": "@jupyter-widgets/base",
            "_model_module_version": "1.2.0",
            "_model_name": "LayoutModel",
            "_view_count": null,
            "_view_module": "@jupyter-widgets/base",
            "_view_module_version": "1.2.0",
            "_view_name": "LayoutView",
            "align_content": null,
            "align_items": null,
            "align_self": null,
            "border": null,
            "bottom": null,
            "display": null,
            "flex": null,
            "flex_flow": null,
            "grid_area": null,
            "grid_auto_columns": null,
            "grid_auto_flow": null,
            "grid_auto_rows": null,
            "grid_column": null,
            "grid_gap": null,
            "grid_row": null,
            "grid_template_areas": null,
            "grid_template_columns": null,
            "grid_template_rows": null,
            "height": null,
            "justify_content": null,
            "justify_items": null,
            "left": null,
            "margin": null,
            "max_height": null,
            "max_width": null,
            "min_height": null,
            "min_width": null,
            "object_fit": null,
            "object_position": null,
            "order": null,
            "overflow": null,
            "overflow_x": null,
            "overflow_y": null,
            "padding": null,
            "right": null,
            "top": null,
            "visibility": null,
            "width": null
          }
        },
        "68b44ce8eb4e47dea2712ac4bb3bf91e": {
          "model_module": "@jupyter-widgets/base",
          "model_name": "LayoutModel",
          "model_module_version": "1.2.0",
          "state": {
            "_model_module": "@jupyter-widgets/base",
            "_model_module_version": "1.2.0",
            "_model_name": "LayoutModel",
            "_view_count": null,
            "_view_module": "@jupyter-widgets/base",
            "_view_module_version": "1.2.0",
            "_view_name": "LayoutView",
            "align_content": null,
            "align_items": null,
            "align_self": null,
            "border": null,
            "bottom": null,
            "display": null,
            "flex": null,
            "flex_flow": null,
            "grid_area": null,
            "grid_auto_columns": null,
            "grid_auto_flow": null,
            "grid_auto_rows": null,
            "grid_column": null,
            "grid_gap": null,
            "grid_row": null,
            "grid_template_areas": null,
            "grid_template_columns": null,
            "grid_template_rows": null,
            "height": null,
            "justify_content": null,
            "justify_items": null,
            "left": null,
            "margin": null,
            "max_height": null,
            "max_width": null,
            "min_height": null,
            "min_width": null,
            "object_fit": null,
            "object_position": null,
            "order": null,
            "overflow": null,
            "overflow_x": null,
            "overflow_y": null,
            "padding": null,
            "right": null,
            "top": null,
            "visibility": null,
            "width": null
          }
        },
        "5d6d16db7e884c299da313a37f9977f8": {
          "model_module": "@jupyter-widgets/controls",
          "model_name": "DescriptionStyleModel",
          "model_module_version": "1.5.0",
          "state": {
            "_model_module": "@jupyter-widgets/controls",
            "_model_module_version": "1.5.0",
            "_model_name": "DescriptionStyleModel",
            "_view_count": null,
            "_view_module": "@jupyter-widgets/base",
            "_view_module_version": "1.2.0",
            "_view_name": "StyleView",
            "description_width": ""
          }
        },
        "104b5a0e06884dc9801458884631a9a2": {
          "model_module": "@jupyter-widgets/base",
          "model_name": "LayoutModel",
          "model_module_version": "1.2.0",
          "state": {
            "_model_module": "@jupyter-widgets/base",
            "_model_module_version": "1.2.0",
            "_model_name": "LayoutModel",
            "_view_count": null,
            "_view_module": "@jupyter-widgets/base",
            "_view_module_version": "1.2.0",
            "_view_name": "LayoutView",
            "align_content": null,
            "align_items": null,
            "align_self": null,
            "border": null,
            "bottom": null,
            "display": null,
            "flex": null,
            "flex_flow": null,
            "grid_area": null,
            "grid_auto_columns": null,
            "grid_auto_flow": null,
            "grid_auto_rows": null,
            "grid_column": null,
            "grid_gap": null,
            "grid_row": null,
            "grid_template_areas": null,
            "grid_template_columns": null,
            "grid_template_rows": null,
            "height": null,
            "justify_content": null,
            "justify_items": null,
            "left": null,
            "margin": null,
            "max_height": null,
            "max_width": null,
            "min_height": null,
            "min_width": null,
            "object_fit": null,
            "object_position": null,
            "order": null,
            "overflow": null,
            "overflow_x": null,
            "overflow_y": null,
            "padding": null,
            "right": null,
            "top": null,
            "visibility": null,
            "width": null
          }
        },
        "6049abce90424989b7019c2c232c302f": {
          "model_module": "@jupyter-widgets/controls",
          "model_name": "ProgressStyleModel",
          "model_module_version": "1.5.0",
          "state": {
            "_model_module": "@jupyter-widgets/controls",
            "_model_module_version": "1.5.0",
            "_model_name": "ProgressStyleModel",
            "_view_count": null,
            "_view_module": "@jupyter-widgets/base",
            "_view_module_version": "1.2.0",
            "_view_name": "StyleView",
            "bar_color": null,
            "description_width": ""
          }
        },
        "297a2e14bc8249068bf802a32f19b058": {
          "model_module": "@jupyter-widgets/base",
          "model_name": "LayoutModel",
          "model_module_version": "1.2.0",
          "state": {
            "_model_module": "@jupyter-widgets/base",
            "_model_module_version": "1.2.0",
            "_model_name": "LayoutModel",
            "_view_count": null,
            "_view_module": "@jupyter-widgets/base",
            "_view_module_version": "1.2.0",
            "_view_name": "LayoutView",
            "align_content": null,
            "align_items": null,
            "align_self": null,
            "border": null,
            "bottom": null,
            "display": null,
            "flex": null,
            "flex_flow": null,
            "grid_area": null,
            "grid_auto_columns": null,
            "grid_auto_flow": null,
            "grid_auto_rows": null,
            "grid_column": null,
            "grid_gap": null,
            "grid_row": null,
            "grid_template_areas": null,
            "grid_template_columns": null,
            "grid_template_rows": null,
            "height": null,
            "justify_content": null,
            "justify_items": null,
            "left": null,
            "margin": null,
            "max_height": null,
            "max_width": null,
            "min_height": null,
            "min_width": null,
            "object_fit": null,
            "object_position": null,
            "order": null,
            "overflow": null,
            "overflow_x": null,
            "overflow_y": null,
            "padding": null,
            "right": null,
            "top": null,
            "visibility": null,
            "width": null
          }
        },
        "d2776ef613d7496b9d433efc61cfd2e7": {
          "model_module": "@jupyter-widgets/controls",
          "model_name": "DescriptionStyleModel",
          "model_module_version": "1.5.0",
          "state": {
            "_model_module": "@jupyter-widgets/controls",
            "_model_module_version": "1.5.0",
            "_model_name": "DescriptionStyleModel",
            "_view_count": null,
            "_view_module": "@jupyter-widgets/base",
            "_view_module_version": "1.2.0",
            "_view_name": "StyleView",
            "description_width": ""
          }
        }
      }
    }
  },
  "cells": [
    {
      "cell_type": "markdown",
      "source": [
        "# GPU Speedup of Motif Analysis\n",
        "---\n",
        "\n",
        "Here, we measure [`netsci`](https://github.com/gialdetti/netsci) speedup resulting from the GPU-based algorithm. Specificaly, we compare the running times between CPU and GPU over several networks sizes ($n$) and sparsities ($p$)."
      ],
      "metadata": {
        "id": "FhsonLSSm7_0"
      }
    },
    {
      "cell_type": "code",
      "source": [
        "# Install packages (e.g., for Google Colab)\n",
        "\n",
        "# !pip install netsci                                               # Install latest release version\n",
        "!pip install git+https://github.com/gialdetti/netsci.git          # Install latest development version"
      ],
      "metadata": {
        "colab": {
          "base_uri": "https://localhost:8080/"
        },
        "id": "UqrVLaObTGKR",
        "outputId": "34b6367f-ddc6-461e-cdff-f22b115879b3"
      },
      "execution_count": 1,
      "outputs": [
        {
          "output_type": "stream",
          "name": "stdout",
          "text": [
            "Looking in indexes: https://pypi.org/simple, https://us-python.pkg.dev/colab-wheels/public/simple/\n",
            "Collecting git+https://github.com/gialdetti/netsci.git\n",
            "  Cloning https://github.com/gialdetti/netsci.git to /tmp/pip-req-build-fxwxnwcc\n",
            "  Running command git clone -q https://github.com/gialdetti/netsci.git /tmp/pip-req-build-fxwxnwcc\n",
            "Requirement already satisfied: numpy>=1.16.2 in /usr/local/lib/python3.7/dist-packages (from netsci==0.0.3) (1.21.6)\n",
            "Requirement already satisfied: pandas>=0.24.2 in /usr/local/lib/python3.7/dist-packages (from netsci==0.0.3) (1.3.5)\n",
            "Requirement already satisfied: networkx>=2.2 in /usr/local/lib/python3.7/dist-packages (from netsci==0.0.3) (2.6.3)\n",
            "Requirement already satisfied: scikit-learn in /usr/local/lib/python3.7/dist-packages (from netsci==0.0.3) (1.0.2)\n",
            "Requirement already satisfied: pytz>=2017.3 in /usr/local/lib/python3.7/dist-packages (from pandas>=0.24.2->netsci==0.0.3) (2022.1)\n",
            "Requirement already satisfied: python-dateutil>=2.7.3 in /usr/local/lib/python3.7/dist-packages (from pandas>=0.24.2->netsci==0.0.3) (2.8.2)\n",
            "Requirement already satisfied: six>=1.5 in /usr/local/lib/python3.7/dist-packages (from python-dateutil>=2.7.3->pandas>=0.24.2->netsci==0.0.3) (1.15.0)\n",
            "Requirement already satisfied: scipy>=1.1.0 in /usr/local/lib/python3.7/dist-packages (from scikit-learn->netsci==0.0.3) (1.4.1)\n",
            "Requirement already satisfied: threadpoolctl>=2.0.0 in /usr/local/lib/python3.7/dist-packages (from scikit-learn->netsci==0.0.3) (3.1.0)\n",
            "Requirement already satisfied: joblib>=0.11 in /usr/local/lib/python3.7/dist-packages (from scikit-learn->netsci==0.0.3) (1.1.0)\n"
          ]
        }
      ]
    },
    {
      "cell_type": "code",
      "source": [
        "import logging; logging.basicConfig()\n",
        "import itertools\n",
        "\n",
        "import numpy as np\n",
        "import pandas as pd\n",
        "from tqdm.auto import tqdm\n",
        "\n",
        "import tensorflow as tf\n",
        "\n",
        "from netsci.models.random import erdos_renyi\n",
        "import netsci.metrics.motifs as nsm\n",
        "\n",
        "\n",
        "tqdm.pandas()\n",
        "print(\"Num GPUs Available: \", len(tf.config.list_physical_devices('GPU')))"
      ],
      "metadata": {
        "colab": {
          "base_uri": "https://localhost:8080/"
        },
        "id": "OTr6gItATEgb",
        "outputId": "ada1e74e-c2b4-4d04-a72b-de42cf045015"
      },
      "execution_count": 2,
      "outputs": [
        {
          "output_type": "stream",
          "name": "stdout",
          "text": [
            "Num GPUs Available:  1\n"
          ]
        }
      ]
    },
    {
      "cell_type": "code",
      "source": [
        "from tensorflow.python.client import device_lib\n",
        "import re\n",
        "\n",
        "\n",
        "def parse_description(physical_device_desc):\n",
        "    return dict(re.findall(r\"([^,:]*): ([^,]*)[,\\s]*\", physical_device_desc))\n",
        "\n",
        "\n",
        "# descriptions = [\n",
        "#     \"\",\n",
        "#     \"device: 0, name: Tesla T4, pci bus id: 0000:00:04.0, compute capability: 7.5\",\n",
        "#     \"device: 0, name: METAL, pci bus id: <undefined>\",\n",
        "# ]\n",
        "# [parse_description(d) for d in descriptions]\n",
        "\n",
        "\n",
        "def get_gpu_model():\n",
        "    device_names = {\n",
        "        d.name: parse_description(d.physical_device_desc).get(\"name\", \"\")\n",
        "        for d in device_lib.list_local_devices()\n",
        "    }\n",
        "\n",
        "    return device_names[\"/device:GPU:0\"]\n",
        "\n",
        "\n",
        "gpu_model = get_gpu_model()\n",
        "print(f'GPU model: {gpu_model}')"
      ],
      "metadata": {
        "colab": {
          "base_uri": "https://localhost:8080/"
        },
        "id": "kIqVdTk8RScO",
        "outputId": "5a243b9a-d1e6-44e7-cd2a-0b86e946663e"
      },
      "execution_count": 3,
      "outputs": [
        {
          "output_type": "stream",
          "name": "stdout",
          "text": [
            "GPU model: Tesla T4\n"
          ]
        }
      ]
    },
    {
      "cell_type": "code",
      "source": [
        "import time\n",
        "\n",
        "class Timer:\n",
        "    def __init__(self, logger=None, desc='Execution'):\n",
        "        self.logger = logger\n",
        "        self.desc = desc\n",
        "\n",
        "    def __enter__(self):\n",
        "        self.start = time.time_ns()\n",
        "        return self\n",
        "\n",
        "    def __exit__(self, *args):\n",
        "        self.end = time.time_ns()\n",
        "        self.interval = (self.end - self.start)\n",
        "        self.interval_ms = self.interval // 1_000_000\n",
        "\n",
        "        if self.logger is not None:\n",
        "            self.logger(f'{self.desc} took {self.interval_ms/1000:.03f} sec.')"
      ],
      "metadata": {
        "id": "a6ksBQx7ABoa"
      },
      "execution_count": 4,
      "outputs": []
    },
    {
      "cell_type": "markdown",
      "source": [
        "## Sanity checks"
      ],
      "metadata": {
        "id": "NP3jkpaU_wGM"
      }
    },
    {
      "cell_type": "code",
      "source": [
        "# from netsci.metrics.motifs_gpu import _motifs_gpu\n",
        "# help(_motifs_gpu)"
      ],
      "metadata": {
        "id": "ihMjPhAtnk1I"
      },
      "execution_count": 5,
      "outputs": []
    },
    {
      "cell_type": "code",
      "source": [
        "# A = erdos_renyi(n=1000, p=0.01, random_state=71070)\n",
        "\n",
        "# logging.getLogger('netsci.metrics.motifs_gpu').setLevel(logging.DEBUG)\n",
        "# with tf.device('/CPU:0'):\n",
        "#     print(_motifs_gpu(A))\n",
        "\n",
        "# with tf.device('/GPU:0'):\n",
        "#     print(_motifs_gpu(A))"
      ],
      "metadata": {
        "id": "JFmCcG-EUJOC"
      },
      "execution_count": 6,
      "outputs": []
    },
    {
      "cell_type": "markdown",
      "source": [
        "GPU usage"
      ],
      "metadata": {
        "id": "aolFIpLk_6eE"
      }
    },
    {
      "cell_type": "code",
      "source": [
        "A = erdos_renyi(n=1000, p=0.01, random_state=71070)\n",
        "\n",
        "logging.getLogger('netsci.metrics.motifs_gpu').setLevel(logging.DEBUG)\n",
        "with tf.device('/CPU:0'):\n",
        "    print(nsm.motifs(A, algorithm='gpu'))\n",
        "\n",
        "with tf.device('/GPU:0'):\n",
        "    print(nsm.motifs(A, algorithm='gpu'))"
      ],
      "metadata": {
        "colab": {
          "base_uri": "https://localhost:8080/"
        },
        "id": "_vFbZsIAoXtT",
        "outputId": "500f473e-38ee-468a-f68a-bb2d36d78467"
      },
      "execution_count": 7,
      "outputs": [
        {
          "output_type": "stream",
          "name": "stderr",
          "text": [
            "DEBUG:netsci.metrics.motifs_gpu:Ax devices: ['device:CPU:0', 'device:CPU:0', 'device:CPU:0', 'device:CPU:0']\n",
            "DEBUG:netsci.metrics.motifs_gpu:f devices: ['device:CPU:0', 'device:CPU:0', 'device:CPU:0', 'device:CPU:0', 'device:CPU:0', 'device:CPU:0', 'device:CPU:0', 'device:CPU:0', 'device:CPU:0', 'device:CPU:0', 'device:CPU:0', 'device:CPU:0', 'device:CPU:0', 'device:CPU:0', 'device:CPU:0', 'device:CPU:0']\n",
            "DEBUG:netsci.metrics.motifs_gpu:Ax devices: ['device:GPU:0', 'device:GPU:0', 'device:GPU:0', 'device:GPU:0']\n"
          ]
        },
        {
          "output_type": "stream",
          "name": "stdout",
          "text": [
            "[156453141   9481653     37283     95997     47667     48287      1001\n",
            "       843       769       334         2         9         5         9\n",
            "         0         0]\n"
          ]
        },
        {
          "output_type": "stream",
          "name": "stderr",
          "text": [
            "DEBUG:netsci.metrics.motifs_gpu:f devices: ['device:GPU:0', 'device:GPU:0', 'device:GPU:0', 'device:GPU:0', 'device:GPU:0', 'device:GPU:0', 'device:GPU:0', 'device:GPU:0', 'device:GPU:0', 'device:GPU:0', 'device:GPU:0', 'device:GPU:0', 'device:GPU:0', 'device:GPU:0', 'device:GPU:0', 'device:GPU:0']\n"
          ]
        },
        {
          "output_type": "stream",
          "name": "stdout",
          "text": [
            "[156453141   9481653     37283     95997     47667     48287      1001\n",
            "       843       769       334         2         9         5         9\n",
            "         0         0]\n"
          ]
        }
      ]
    },
    {
      "cell_type": "markdown",
      "source": [
        "GPU timing"
      ],
      "metadata": {
        "id": "eQ6fmeCXAFJr"
      }
    },
    {
      "cell_type": "code",
      "source": [
        "with Timer(logger=print, desc='GPU') as t:\n",
        "  with tf.device('/GPU:0'):\n",
        "    print(nsm.motifs(A, algorithm='gpu'))\n",
        "print(t.interval_ms)\n",
        "\n",
        "with Timer(logger=print, desc='CPU'):\n",
        "  with tf.device('/CPU:0'):\n",
        "    print(nsm.motifs(A, algorithm='gpu'))\n"
      ],
      "metadata": {
        "colab": {
          "base_uri": "https://localhost:8080/"
        },
        "id": "Ie83bU4oVS0S",
        "outputId": "f7ce19ef-a36c-40f2-9016-dd2d01b2393b"
      },
      "execution_count": 8,
      "outputs": [
        {
          "output_type": "stream",
          "name": "stderr",
          "text": [
            "DEBUG:netsci.metrics.motifs_gpu:Ax devices: ['device:GPU:0', 'device:GPU:0', 'device:GPU:0', 'device:GPU:0']\n",
            "DEBUG:netsci.metrics.motifs_gpu:f devices: ['device:GPU:0', 'device:GPU:0', 'device:GPU:0', 'device:GPU:0', 'device:GPU:0', 'device:GPU:0', 'device:GPU:0', 'device:GPU:0', 'device:GPU:0', 'device:GPU:0', 'device:GPU:0', 'device:GPU:0', 'device:GPU:0', 'device:GPU:0', 'device:GPU:0', 'device:GPU:0']\n",
            "DEBUG:netsci.metrics.motifs_gpu:Ax devices: ['device:CPU:0', 'device:CPU:0', 'device:CPU:0', 'device:CPU:0']\n"
          ]
        },
        {
          "output_type": "stream",
          "name": "stdout",
          "text": [
            "[156453141   9481653     37283     95997     47667     48287      1001\n",
            "       843       769       334         2         9         5         9\n",
            "         0         0]\n",
            "GPU took 0.343 sec.\n",
            "343\n"
          ]
        },
        {
          "output_type": "stream",
          "name": "stderr",
          "text": [
            "DEBUG:netsci.metrics.motifs_gpu:f devices: ['device:CPU:0', 'device:CPU:0', 'device:CPU:0', 'device:CPU:0', 'device:CPU:0', 'device:CPU:0', 'device:CPU:0', 'device:CPU:0', 'device:CPU:0', 'device:CPU:0', 'device:CPU:0', 'device:CPU:0', 'device:CPU:0', 'device:CPU:0', 'device:CPU:0', 'device:CPU:0']\n"
          ]
        },
        {
          "output_type": "stream",
          "name": "stdout",
          "text": [
            "[156453141   9481653     37283     95997     47667     48287      1001\n",
            "       843       769       334         2         9         5         9\n",
            "         0         0]\n",
            "CPU took 3.010 sec.\n"
          ]
        }
      ]
    },
    {
      "cell_type": "markdown",
      "source": [
        "## Experiments"
      ],
      "metadata": {
        "id": "0jDsspXgAY-4"
      }
    },
    {
      "cell_type": "markdown",
      "source": [
        "Experiment configurations"
      ],
      "metadata": {
        "id": "-QpWw9G3Aon8"
      }
    },
    {
      "cell_type": "code",
      "source": [
        "ns = np.arange(0, 3500, 500)[1:]\n",
        "ps = np.linspace(0, 0.4, 8+1)[1:]\n",
        "print(ns, ps)\n",
        "devices = ('/GPU:0', '/CPU:0')\n",
        "n_repetitions = 5\n",
        "  \n",
        "# ns, ps = ns[:2], ps[:3]\n",
        "experiments = pd.DataFrame(itertools.product(ns, ps, devices, [gpu_model], np.arange(n_repetitions)), \n",
        "                           columns=['n', 'p', 'device', 'device_model', 'repetition']) \\\n",
        "  .assign(random_state=71070, device_model=lambda df: df['device_model'].where(df['device']=='/GPU:0'))\n",
        "\n",
        "# display(experiments.agg(['nunique']))\n",
        "experiments"
      ],
      "metadata": {
        "colab": {
          "base_uri": "https://localhost:8080/",
          "height": 442
        },
        "id": "WVoymGLyWwjE",
        "outputId": "6151ec8c-9169-4dd3-f1ba-5cc20bdbe4af"
      },
      "execution_count": 9,
      "outputs": [
        {
          "output_type": "stream",
          "name": "stdout",
          "text": [
            "[ 500 1000 1500 2000 2500 3000] [0.05 0.1  0.15 0.2  0.25 0.3  0.35 0.4 ]\n"
          ]
        },
        {
          "output_type": "execute_result",
          "data": {
            "text/plain": [
              "        n     p  device device_model  repetition  random_state\n",
              "0     500  0.05  /GPU:0     Tesla T4           0         71070\n",
              "1     500  0.05  /GPU:0     Tesla T4           1         71070\n",
              "2     500  0.05  /GPU:0     Tesla T4           2         71070\n",
              "3     500  0.05  /GPU:0     Tesla T4           3         71070\n",
              "4     500  0.05  /GPU:0     Tesla T4           4         71070\n",
              "..    ...   ...     ...          ...         ...           ...\n",
              "475  3000  0.40  /CPU:0          NaN           0         71070\n",
              "476  3000  0.40  /CPU:0          NaN           1         71070\n",
              "477  3000  0.40  /CPU:0          NaN           2         71070\n",
              "478  3000  0.40  /CPU:0          NaN           3         71070\n",
              "479  3000  0.40  /CPU:0          NaN           4         71070\n",
              "\n",
              "[480 rows x 6 columns]"
            ],
            "text/html": [
              "\n",
              "  <div id=\"df-56a553f8-7f89-463b-86df-786e76d5e1ae\">\n",
              "    <div class=\"colab-df-container\">\n",
              "      <div>\n",
              "<style scoped>\n",
              "    .dataframe tbody tr th:only-of-type {\n",
              "        vertical-align: middle;\n",
              "    }\n",
              "\n",
              "    .dataframe tbody tr th {\n",
              "        vertical-align: top;\n",
              "    }\n",
              "\n",
              "    .dataframe thead th {\n",
              "        text-align: right;\n",
              "    }\n",
              "</style>\n",
              "<table border=\"1\" class=\"dataframe\">\n",
              "  <thead>\n",
              "    <tr style=\"text-align: right;\">\n",
              "      <th></th>\n",
              "      <th>n</th>\n",
              "      <th>p</th>\n",
              "      <th>device</th>\n",
              "      <th>device_model</th>\n",
              "      <th>repetition</th>\n",
              "      <th>random_state</th>\n",
              "    </tr>\n",
              "  </thead>\n",
              "  <tbody>\n",
              "    <tr>\n",
              "      <th>0</th>\n",
              "      <td>500</td>\n",
              "      <td>0.05</td>\n",
              "      <td>/GPU:0</td>\n",
              "      <td>Tesla T4</td>\n",
              "      <td>0</td>\n",
              "      <td>71070</td>\n",
              "    </tr>\n",
              "    <tr>\n",
              "      <th>1</th>\n",
              "      <td>500</td>\n",
              "      <td>0.05</td>\n",
              "      <td>/GPU:0</td>\n",
              "      <td>Tesla T4</td>\n",
              "      <td>1</td>\n",
              "      <td>71070</td>\n",
              "    </tr>\n",
              "    <tr>\n",
              "      <th>2</th>\n",
              "      <td>500</td>\n",
              "      <td>0.05</td>\n",
              "      <td>/GPU:0</td>\n",
              "      <td>Tesla T4</td>\n",
              "      <td>2</td>\n",
              "      <td>71070</td>\n",
              "    </tr>\n",
              "    <tr>\n",
              "      <th>3</th>\n",
              "      <td>500</td>\n",
              "      <td>0.05</td>\n",
              "      <td>/GPU:0</td>\n",
              "      <td>Tesla T4</td>\n",
              "      <td>3</td>\n",
              "      <td>71070</td>\n",
              "    </tr>\n",
              "    <tr>\n",
              "      <th>4</th>\n",
              "      <td>500</td>\n",
              "      <td>0.05</td>\n",
              "      <td>/GPU:0</td>\n",
              "      <td>Tesla T4</td>\n",
              "      <td>4</td>\n",
              "      <td>71070</td>\n",
              "    </tr>\n",
              "    <tr>\n",
              "      <th>...</th>\n",
              "      <td>...</td>\n",
              "      <td>...</td>\n",
              "      <td>...</td>\n",
              "      <td>...</td>\n",
              "      <td>...</td>\n",
              "      <td>...</td>\n",
              "    </tr>\n",
              "    <tr>\n",
              "      <th>475</th>\n",
              "      <td>3000</td>\n",
              "      <td>0.40</td>\n",
              "      <td>/CPU:0</td>\n",
              "      <td>NaN</td>\n",
              "      <td>0</td>\n",
              "      <td>71070</td>\n",
              "    </tr>\n",
              "    <tr>\n",
              "      <th>476</th>\n",
              "      <td>3000</td>\n",
              "      <td>0.40</td>\n",
              "      <td>/CPU:0</td>\n",
              "      <td>NaN</td>\n",
              "      <td>1</td>\n",
              "      <td>71070</td>\n",
              "    </tr>\n",
              "    <tr>\n",
              "      <th>477</th>\n",
              "      <td>3000</td>\n",
              "      <td>0.40</td>\n",
              "      <td>/CPU:0</td>\n",
              "      <td>NaN</td>\n",
              "      <td>2</td>\n",
              "      <td>71070</td>\n",
              "    </tr>\n",
              "    <tr>\n",
              "      <th>478</th>\n",
              "      <td>3000</td>\n",
              "      <td>0.40</td>\n",
              "      <td>/CPU:0</td>\n",
              "      <td>NaN</td>\n",
              "      <td>3</td>\n",
              "      <td>71070</td>\n",
              "    </tr>\n",
              "    <tr>\n",
              "      <th>479</th>\n",
              "      <td>3000</td>\n",
              "      <td>0.40</td>\n",
              "      <td>/CPU:0</td>\n",
              "      <td>NaN</td>\n",
              "      <td>4</td>\n",
              "      <td>71070</td>\n",
              "    </tr>\n",
              "  </tbody>\n",
              "</table>\n",
              "<p>480 rows × 6 columns</p>\n",
              "</div>\n",
              "      <button class=\"colab-df-convert\" onclick=\"convertToInteractive('df-56a553f8-7f89-463b-86df-786e76d5e1ae')\"\n",
              "              title=\"Convert this dataframe to an interactive table.\"\n",
              "              style=\"display:none;\">\n",
              "        \n",
              "  <svg xmlns=\"http://www.w3.org/2000/svg\" height=\"24px\"viewBox=\"0 0 24 24\"\n",
              "       width=\"24px\">\n",
              "    <path d=\"M0 0h24v24H0V0z\" fill=\"none\"/>\n",
              "    <path d=\"M18.56 5.44l.94 2.06.94-2.06 2.06-.94-2.06-.94-.94-2.06-.94 2.06-2.06.94zm-11 1L8.5 8.5l.94-2.06 2.06-.94-2.06-.94L8.5 2.5l-.94 2.06-2.06.94zm10 10l.94 2.06.94-2.06 2.06-.94-2.06-.94-.94-2.06-.94 2.06-2.06.94z\"/><path d=\"M17.41 7.96l-1.37-1.37c-.4-.4-.92-.59-1.43-.59-.52 0-1.04.2-1.43.59L10.3 9.45l-7.72 7.72c-.78.78-.78 2.05 0 2.83L4 21.41c.39.39.9.59 1.41.59.51 0 1.02-.2 1.41-.59l7.78-7.78 2.81-2.81c.8-.78.8-2.07 0-2.86zM5.41 20L4 18.59l7.72-7.72 1.47 1.35L5.41 20z\"/>\n",
              "  </svg>\n",
              "      </button>\n",
              "      \n",
              "  <style>\n",
              "    .colab-df-container {\n",
              "      display:flex;\n",
              "      flex-wrap:wrap;\n",
              "      gap: 12px;\n",
              "    }\n",
              "\n",
              "    .colab-df-convert {\n",
              "      background-color: #E8F0FE;\n",
              "      border: none;\n",
              "      border-radius: 50%;\n",
              "      cursor: pointer;\n",
              "      display: none;\n",
              "      fill: #1967D2;\n",
              "      height: 32px;\n",
              "      padding: 0 0 0 0;\n",
              "      width: 32px;\n",
              "    }\n",
              "\n",
              "    .colab-df-convert:hover {\n",
              "      background-color: #E2EBFA;\n",
              "      box-shadow: 0px 1px 2px rgba(60, 64, 67, 0.3), 0px 1px 3px 1px rgba(60, 64, 67, 0.15);\n",
              "      fill: #174EA6;\n",
              "    }\n",
              "\n",
              "    [theme=dark] .colab-df-convert {\n",
              "      background-color: #3B4455;\n",
              "      fill: #D2E3FC;\n",
              "    }\n",
              "\n",
              "    [theme=dark] .colab-df-convert:hover {\n",
              "      background-color: #434B5C;\n",
              "      box-shadow: 0px 1px 3px 1px rgba(0, 0, 0, 0.15);\n",
              "      filter: drop-shadow(0px 1px 2px rgba(0, 0, 0, 0.3));\n",
              "      fill: #FFFFFF;\n",
              "    }\n",
              "  </style>\n",
              "\n",
              "      <script>\n",
              "        const buttonEl =\n",
              "          document.querySelector('#df-56a553f8-7f89-463b-86df-786e76d5e1ae button.colab-df-convert');\n",
              "        buttonEl.style.display =\n",
              "          google.colab.kernel.accessAllowed ? 'block' : 'none';\n",
              "\n",
              "        async function convertToInteractive(key) {\n",
              "          const element = document.querySelector('#df-56a553f8-7f89-463b-86df-786e76d5e1ae');\n",
              "          const dataTable =\n",
              "            await google.colab.kernel.invokeFunction('convertToInteractive',\n",
              "                                                     [key], {});\n",
              "          if (!dataTable) return;\n",
              "\n",
              "          const docLinkHtml = 'Like what you see? Visit the ' +\n",
              "            '<a target=\"_blank\" href=https://colab.research.google.com/notebooks/data_table.ipynb>data table notebook</a>'\n",
              "            + ' to learn more about interactive tables.';\n",
              "          element.innerHTML = '';\n",
              "          dataTable['output_type'] = 'display_data';\n",
              "          await google.colab.output.renderOutput(dataTable, element);\n",
              "          const docLink = document.createElement('div');\n",
              "          docLink.innerHTML = docLinkHtml;\n",
              "          element.appendChild(docLink);\n",
              "        }\n",
              "      </script>\n",
              "    </div>\n",
              "  </div>\n",
              "  "
            ]
          },
          "metadata": {},
          "execution_count": 9
        }
      ]
    },
    {
      "cell_type": "markdown",
      "source": [
        "Run experiments"
      ],
      "metadata": {
        "id": "25v1gSJIAwHq"
      }
    },
    {
      "cell_type": "code",
      "source": [
        "logging.getLogger('netsci.metrics.motifs_gpu').setLevel(logging.INFO)\n",
        "\n",
        "\n",
        "def measure(A, device):\n",
        "  timestamp = pd.Timestamp.now()\n",
        "\n",
        "  with Timer() as t:\n",
        "    with tf.device(device):\n",
        "      f = nsm.motifs(A, algorithm='gpu')\n",
        "  return {\n",
        "      'timestamp': timestamp,\n",
        "      'computation_time': t.interval_ms / 1000,\n",
        "      'motifs': f,\n",
        "  }\n",
        "\n",
        "\n",
        "times = experiments.join(\n",
        "    experiments.sample(frac=1) \\\n",
        "    .progress_apply(lambda r: measure(erdos_renyi(r.n, r.p, random_state=r.random_state), r.device), axis=1) \\\n",
        "    .apply(pd.Series)\n",
        ")\n",
        "times"
      ],
      "metadata": {
        "colab": {
          "base_uri": "https://localhost:8080/",
          "height": 1000,
          "referenced_widgets": [
            "8deb4686344a45ee8370a5eb46f3a527",
            "fa1c3d597aac46d29364dca0be794252",
            "982bf19692954e559a2721b744701a73",
            "f4de1c8d21ef48779d7bb298b00574fd",
            "b55b90df9fc141c8b8b5f7c252e0324a",
            "68b44ce8eb4e47dea2712ac4bb3bf91e",
            "5d6d16db7e884c299da313a37f9977f8",
            "104b5a0e06884dc9801458884631a9a2",
            "6049abce90424989b7019c2c232c302f",
            "297a2e14bc8249068bf802a32f19b058",
            "d2776ef613d7496b9d433efc61cfd2e7"
          ]
        },
        "id": "dEendJi4aQYD",
        "outputId": "c5658f02-9700-4fe0-9ce6-77522dbcd35e"
      },
      "execution_count": 10,
      "outputs": [
        {
          "output_type": "display_data",
          "data": {
            "text/plain": [
              "  0%|          | 0/480 [00:00<?, ?it/s]"
            ],
            "application/vnd.jupyter.widget-view+json": {
              "version_major": 2,
              "version_minor": 0,
              "model_id": "8deb4686344a45ee8370a5eb46f3a527"
            }
          },
          "metadata": {}
        },
        {
          "output_type": "execute_result",
          "data": {
            "text/plain": [
              "        n     p  device device_model  repetition  random_state  \\\n",
              "0     500  0.05  /GPU:0     Tesla T4           0         71070   \n",
              "1     500  0.05  /GPU:0     Tesla T4           1         71070   \n",
              "2     500  0.05  /GPU:0     Tesla T4           2         71070   \n",
              "3     500  0.05  /GPU:0     Tesla T4           3         71070   \n",
              "4     500  0.05  /GPU:0     Tesla T4           4         71070   \n",
              "..    ...   ...     ...          ...         ...           ...   \n",
              "475  3000  0.40  /CPU:0          NaN           0         71070   \n",
              "476  3000  0.40  /CPU:0          NaN           1         71070   \n",
              "477  3000  0.40  /CPU:0          NaN           2         71070   \n",
              "478  3000  0.40  /CPU:0          NaN           3         71070   \n",
              "479  3000  0.40  /CPU:0          NaN           4         71070   \n",
              "\n",
              "                     timestamp  computation_time  \\\n",
              "0   2022-05-29 19:39:50.243962             0.048   \n",
              "1   2022-05-29 19:43:37.884065             0.051   \n",
              "2   2022-05-29 20:03:49.072928             0.050   \n",
              "3   2022-05-29 20:25:49.869684             0.049   \n",
              "4   2022-05-29 19:51:01.856163             0.051   \n",
              "..                         ...               ...   \n",
              "475 2022-05-29 20:16:51.048332            44.161   \n",
              "476 2022-05-29 20:13:52.551391            50.667   \n",
              "477 2022-05-29 20:01:43.163648            43.729   \n",
              "478 2022-05-29 20:00:04.702457            48.687   \n",
              "479 2022-05-29 20:43:40.585706            44.503   \n",
              "\n",
              "                                                motifs  \n",
              "0    [15207804, 4818168, 126809, 254497, 127365, 12...  \n",
              "1    [15207804, 4818168, 126809, 254497, 127365, 12...  \n",
              "2    [15207804, 4818168, 126809, 254497, 127365, 12...  \n",
              "3    [15207804, 4818168, 126809, 254497, 127365, 12...  \n",
              "4    [15207804, 4818168, 126809, 254497, 127365, 12...  \n",
              "..                                                 ...  \n",
              "475  [209616783, 838990685, 279309289, 559731871, 2...  \n",
              "476  [209616783, 838990685, 279309289, 559731871, 2...  \n",
              "477  [209616783, 838990685, 279309289, 559731871, 2...  \n",
              "478  [209616783, 838990685, 279309289, 559731871, 2...  \n",
              "479  [209616783, 838990685, 279309289, 559731871, 2...  \n",
              "\n",
              "[480 rows x 9 columns]"
            ],
            "text/html": [
              "\n",
              "  <div id=\"df-19c38b78-2252-417d-90b8-d759f7964725\">\n",
              "    <div class=\"colab-df-container\">\n",
              "      <div>\n",
              "<style scoped>\n",
              "    .dataframe tbody tr th:only-of-type {\n",
              "        vertical-align: middle;\n",
              "    }\n",
              "\n",
              "    .dataframe tbody tr th {\n",
              "        vertical-align: top;\n",
              "    }\n",
              "\n",
              "    .dataframe thead th {\n",
              "        text-align: right;\n",
              "    }\n",
              "</style>\n",
              "<table border=\"1\" class=\"dataframe\">\n",
              "  <thead>\n",
              "    <tr style=\"text-align: right;\">\n",
              "      <th></th>\n",
              "      <th>n</th>\n",
              "      <th>p</th>\n",
              "      <th>device</th>\n",
              "      <th>device_model</th>\n",
              "      <th>repetition</th>\n",
              "      <th>random_state</th>\n",
              "      <th>timestamp</th>\n",
              "      <th>computation_time</th>\n",
              "      <th>motifs</th>\n",
              "    </tr>\n",
              "  </thead>\n",
              "  <tbody>\n",
              "    <tr>\n",
              "      <th>0</th>\n",
              "      <td>500</td>\n",
              "      <td>0.05</td>\n",
              "      <td>/GPU:0</td>\n",
              "      <td>Tesla T4</td>\n",
              "      <td>0</td>\n",
              "      <td>71070</td>\n",
              "      <td>2022-05-29 19:39:50.243962</td>\n",
              "      <td>0.048</td>\n",
              "      <td>[15207804, 4818168, 126809, 254497, 127365, 12...</td>\n",
              "    </tr>\n",
              "    <tr>\n",
              "      <th>1</th>\n",
              "      <td>500</td>\n",
              "      <td>0.05</td>\n",
              "      <td>/GPU:0</td>\n",
              "      <td>Tesla T4</td>\n",
              "      <td>1</td>\n",
              "      <td>71070</td>\n",
              "      <td>2022-05-29 19:43:37.884065</td>\n",
              "      <td>0.051</td>\n",
              "      <td>[15207804, 4818168, 126809, 254497, 127365, 12...</td>\n",
              "    </tr>\n",
              "    <tr>\n",
              "      <th>2</th>\n",
              "      <td>500</td>\n",
              "      <td>0.05</td>\n",
              "      <td>/GPU:0</td>\n",
              "      <td>Tesla T4</td>\n",
              "      <td>2</td>\n",
              "      <td>71070</td>\n",
              "      <td>2022-05-29 20:03:49.072928</td>\n",
              "      <td>0.050</td>\n",
              "      <td>[15207804, 4818168, 126809, 254497, 127365, 12...</td>\n",
              "    </tr>\n",
              "    <tr>\n",
              "      <th>3</th>\n",
              "      <td>500</td>\n",
              "      <td>0.05</td>\n",
              "      <td>/GPU:0</td>\n",
              "      <td>Tesla T4</td>\n",
              "      <td>3</td>\n",
              "      <td>71070</td>\n",
              "      <td>2022-05-29 20:25:49.869684</td>\n",
              "      <td>0.049</td>\n",
              "      <td>[15207804, 4818168, 126809, 254497, 127365, 12...</td>\n",
              "    </tr>\n",
              "    <tr>\n",
              "      <th>4</th>\n",
              "      <td>500</td>\n",
              "      <td>0.05</td>\n",
              "      <td>/GPU:0</td>\n",
              "      <td>Tesla T4</td>\n",
              "      <td>4</td>\n",
              "      <td>71070</td>\n",
              "      <td>2022-05-29 19:51:01.856163</td>\n",
              "      <td>0.051</td>\n",
              "      <td>[15207804, 4818168, 126809, 254497, 127365, 12...</td>\n",
              "    </tr>\n",
              "    <tr>\n",
              "      <th>...</th>\n",
              "      <td>...</td>\n",
              "      <td>...</td>\n",
              "      <td>...</td>\n",
              "      <td>...</td>\n",
              "      <td>...</td>\n",
              "      <td>...</td>\n",
              "      <td>...</td>\n",
              "      <td>...</td>\n",
              "      <td>...</td>\n",
              "    </tr>\n",
              "    <tr>\n",
              "      <th>475</th>\n",
              "      <td>3000</td>\n",
              "      <td>0.40</td>\n",
              "      <td>/CPU:0</td>\n",
              "      <td>NaN</td>\n",
              "      <td>0</td>\n",
              "      <td>71070</td>\n",
              "      <td>2022-05-29 20:16:51.048332</td>\n",
              "      <td>44.161</td>\n",
              "      <td>[209616783, 838990685, 279309289, 559731871, 2...</td>\n",
              "    </tr>\n",
              "    <tr>\n",
              "      <th>476</th>\n",
              "      <td>3000</td>\n",
              "      <td>0.40</td>\n",
              "      <td>/CPU:0</td>\n",
              "      <td>NaN</td>\n",
              "      <td>1</td>\n",
              "      <td>71070</td>\n",
              "      <td>2022-05-29 20:13:52.551391</td>\n",
              "      <td>50.667</td>\n",
              "      <td>[209616783, 838990685, 279309289, 559731871, 2...</td>\n",
              "    </tr>\n",
              "    <tr>\n",
              "      <th>477</th>\n",
              "      <td>3000</td>\n",
              "      <td>0.40</td>\n",
              "      <td>/CPU:0</td>\n",
              "      <td>NaN</td>\n",
              "      <td>2</td>\n",
              "      <td>71070</td>\n",
              "      <td>2022-05-29 20:01:43.163648</td>\n",
              "      <td>43.729</td>\n",
              "      <td>[209616783, 838990685, 279309289, 559731871, 2...</td>\n",
              "    </tr>\n",
              "    <tr>\n",
              "      <th>478</th>\n",
              "      <td>3000</td>\n",
              "      <td>0.40</td>\n",
              "      <td>/CPU:0</td>\n",
              "      <td>NaN</td>\n",
              "      <td>3</td>\n",
              "      <td>71070</td>\n",
              "      <td>2022-05-29 20:00:04.702457</td>\n",
              "      <td>48.687</td>\n",
              "      <td>[209616783, 838990685, 279309289, 559731871, 2...</td>\n",
              "    </tr>\n",
              "    <tr>\n",
              "      <th>479</th>\n",
              "      <td>3000</td>\n",
              "      <td>0.40</td>\n",
              "      <td>/CPU:0</td>\n",
              "      <td>NaN</td>\n",
              "      <td>4</td>\n",
              "      <td>71070</td>\n",
              "      <td>2022-05-29 20:43:40.585706</td>\n",
              "      <td>44.503</td>\n",
              "      <td>[209616783, 838990685, 279309289, 559731871, 2...</td>\n",
              "    </tr>\n",
              "  </tbody>\n",
              "</table>\n",
              "<p>480 rows × 9 columns</p>\n",
              "</div>\n",
              "      <button class=\"colab-df-convert\" onclick=\"convertToInteractive('df-19c38b78-2252-417d-90b8-d759f7964725')\"\n",
              "              title=\"Convert this dataframe to an interactive table.\"\n",
              "              style=\"display:none;\">\n",
              "        \n",
              "  <svg xmlns=\"http://www.w3.org/2000/svg\" height=\"24px\"viewBox=\"0 0 24 24\"\n",
              "       width=\"24px\">\n",
              "    <path d=\"M0 0h24v24H0V0z\" fill=\"none\"/>\n",
              "    <path d=\"M18.56 5.44l.94 2.06.94-2.06 2.06-.94-2.06-.94-.94-2.06-.94 2.06-2.06.94zm-11 1L8.5 8.5l.94-2.06 2.06-.94-2.06-.94L8.5 2.5l-.94 2.06-2.06.94zm10 10l.94 2.06.94-2.06 2.06-.94-2.06-.94-.94-2.06-.94 2.06-2.06.94z\"/><path d=\"M17.41 7.96l-1.37-1.37c-.4-.4-.92-.59-1.43-.59-.52 0-1.04.2-1.43.59L10.3 9.45l-7.72 7.72c-.78.78-.78 2.05 0 2.83L4 21.41c.39.39.9.59 1.41.59.51 0 1.02-.2 1.41-.59l7.78-7.78 2.81-2.81c.8-.78.8-2.07 0-2.86zM5.41 20L4 18.59l7.72-7.72 1.47 1.35L5.41 20z\"/>\n",
              "  </svg>\n",
              "      </button>\n",
              "      \n",
              "  <style>\n",
              "    .colab-df-container {\n",
              "      display:flex;\n",
              "      flex-wrap:wrap;\n",
              "      gap: 12px;\n",
              "    }\n",
              "\n",
              "    .colab-df-convert {\n",
              "      background-color: #E8F0FE;\n",
              "      border: none;\n",
              "      border-radius: 50%;\n",
              "      cursor: pointer;\n",
              "      display: none;\n",
              "      fill: #1967D2;\n",
              "      height: 32px;\n",
              "      padding: 0 0 0 0;\n",
              "      width: 32px;\n",
              "    }\n",
              "\n",
              "    .colab-df-convert:hover {\n",
              "      background-color: #E2EBFA;\n",
              "      box-shadow: 0px 1px 2px rgba(60, 64, 67, 0.3), 0px 1px 3px 1px rgba(60, 64, 67, 0.15);\n",
              "      fill: #174EA6;\n",
              "    }\n",
              "\n",
              "    [theme=dark] .colab-df-convert {\n",
              "      background-color: #3B4455;\n",
              "      fill: #D2E3FC;\n",
              "    }\n",
              "\n",
              "    [theme=dark] .colab-df-convert:hover {\n",
              "      background-color: #434B5C;\n",
              "      box-shadow: 0px 1px 3px 1px rgba(0, 0, 0, 0.15);\n",
              "      filter: drop-shadow(0px 1px 2px rgba(0, 0, 0, 0.3));\n",
              "      fill: #FFFFFF;\n",
              "    }\n",
              "  </style>\n",
              "\n",
              "      <script>\n",
              "        const buttonEl =\n",
              "          document.querySelector('#df-19c38b78-2252-417d-90b8-d759f7964725 button.colab-df-convert');\n",
              "        buttonEl.style.display =\n",
              "          google.colab.kernel.accessAllowed ? 'block' : 'none';\n",
              "\n",
              "        async function convertToInteractive(key) {\n",
              "          const element = document.querySelector('#df-19c38b78-2252-417d-90b8-d759f7964725');\n",
              "          const dataTable =\n",
              "            await google.colab.kernel.invokeFunction('convertToInteractive',\n",
              "                                                     [key], {});\n",
              "          if (!dataTable) return;\n",
              "\n",
              "          const docLinkHtml = 'Like what you see? Visit the ' +\n",
              "            '<a target=\"_blank\" href=https://colab.research.google.com/notebooks/data_table.ipynb>data table notebook</a>'\n",
              "            + ' to learn more about interactive tables.';\n",
              "          element.innerHTML = '';\n",
              "          dataTable['output_type'] = 'display_data';\n",
              "          await google.colab.output.renderOutput(dataTable, element);\n",
              "          const docLink = document.createElement('div');\n",
              "          docLink.innerHTML = docLinkHtml;\n",
              "          element.appendChild(docLink);\n",
              "        }\n",
              "      </script>\n",
              "    </div>\n",
              "  </div>\n",
              "  "
            ]
          },
          "metadata": {},
          "execution_count": 10
        }
      ]
    },
    {
      "cell_type": "code",
      "source": [
        "# assert all(times.groupby(['n', 'p', 'random_state']).apply(lambda g: g['motifs'].values.std()==0))\n",
        "assert all(times.groupby(['n', 'p', 'random_state']).apply(lambda g: len(np.unique(np.vstack(g['motifs']), axis=0))) == 1)"
      ],
      "metadata": {
        "id": "z3qWR_TuWQ2j"
      },
      "execution_count": 11,
      "outputs": []
    },
    {
      "cell_type": "code",
      "source": [
        "times.to_csv(f\"gpu-speedup-times.{gpu_model}.Colab.{pd.Timestamp.now().strftime('(%y%m%d.%H%M%S)')}.csv\", index=False)"
      ],
      "metadata": {
        "id": "LllRZScyhK4I"
      },
      "execution_count": 12,
      "outputs": []
    },
    {
      "cell_type": "markdown",
      "source": [
        "## Results"
      ],
      "metadata": {
        "id": "F4Q7ahRyBQN7"
      }
    },
    {
      "cell_type": "code",
      "source": [
        "import matplotlib.pyplot as plt\n",
        "import seaborn as sns\n",
        "\n",
        "%config InlineBackend.figure_format='retina'"
      ],
      "metadata": {
        "id": "31G3iI9jfOJl"
      },
      "execution_count": 18,
      "outputs": []
    },
    {
      "cell_type": "code",
      "source": [
        "sns.relplot(x='n', y='computation_time', hue='p', col='device', data=times, \n",
        "            kind='line', markers=True, style='device', dashes=False, palette='Blues', height=3.2)\n",
        "plt.xlabel('Nodes')\n",
        "plt.ylabel('Computation Time [sec]')"
      ],
      "metadata": {
        "id": "_3G2kdbxfUJN",
        "colab": {
          "base_uri": "https://localhost:8080/",
          "height": 256
        },
        "outputId": "774dd9a5-b1f8-4e2d-9a46-af03e52b9df6"
      },
      "execution_count": 19,
      "outputs": [
        {
          "output_type": "execute_result",
          "data": {
            "text/plain": [
              "Text(289.00263671875, 0.5, 'Computation Time [sec]')"
            ]
          },
          "metadata": {},
          "execution_count": 19
        },
        {
          "output_type": "display_data",
          "data": {
            "text/plain": [
              "<Figure size 530.8x230.4 with 2 Axes>"
            ],
            "image/png": "[encoded data removed]"
          },
          "metadata": {
            "image/png": {
              "width": 522,
              "height": 221
            },
            "needs_background": "light"
          }
        }
      ]
    },
    {
      "cell_type": "code",
      "source": [
        "speedup = times.groupby(['n', 'p', 'device', 'random_state'])['computation_time'].mean().unstack(['device']) \\\n",
        "  .assign(speedup=lambda df: df['/CPU:0']/df['/GPU:0']).reset_index() \\\n",
        "  .assign(device=gpu_model)\n",
        "\n",
        "sns.relplot(x='n', y='speedup', hue='device', style='device', data=speedup,\n",
        "            kind='line', markers=True, height=3.2, aspect=2)\n",
        "plt.xlabel('Nodes')\n",
        "plt.ylabel('Speedup ratio')\n",
        "plt.gca().set_yticklabels([f\"x{t}\" for t in plt.gca().get_yticks()]);"
      ],
      "metadata": {
        "id": "C3zqIgHU5wr0",
        "colab": {
          "base_uri": "https://localhost:8080/",
          "height": 239
        },
        "outputId": "df996079-320e-4f79-f1f8-6c183bd0b269"
      },
      "execution_count": 23,
      "outputs": [
        {
          "output_type": "display_data",
          "data": {
            "text/plain": [
              "<Figure size 536.8x230.4 with 1 Axes>"
            ],
            "image/png": "[encoded data removed]"
          },
          "metadata": {
            "image/png": {
              "width": 532,
              "height": 222
            },
            "needs_background": "light"
          }
        }
      ]
    }
  ]
}