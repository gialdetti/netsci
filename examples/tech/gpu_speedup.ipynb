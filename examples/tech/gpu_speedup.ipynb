{
  "cells": [
    {
      "cell_type": "markdown",
      "metadata": {
        "id": "FhsonLSSm7_0"
      },
      "source": [
        "# GPU Speedup of Motif Analysis\n",
        "---\n",
        "\n",
        "Here, we measure [`netsci`](https://github.com/gialdetti/netsci) speedup resulting from the GPU-based algorithm. Specificaly, we compare the running times between CPU and GPU over several networks sizes ($n$) and sparsities ($p$)."
      ]
    },
    {
      "cell_type": "code",
      "execution_count": 1,
      "metadata": {
        "colab": {
          "base_uri": "https://localhost:8080/"
        },
        "id": "UqrVLaObTGKR",
        "outputId": "da2bcbf2-2c89-467f-9c66-9963a4f486ce"
      },
      "outputs": [],
      "source": [
        "# Install packages (uncomment if necessary, e.g., for Google Colab)\n",
        "\n",
        "# !pip install netsci                                               # Install latest release version\n",
        "# !pip install git+https://github.com/gialdetti/netsci.git          # Install latest development version"
      ]
    },
    {
      "cell_type": "code",
      "execution_count": 2,
      "metadata": {
        "colab": {
          "base_uri": "https://localhost:8080/"
        },
        "id": "OTr6gItATEgb",
        "outputId": "fe6228ad-ce78-4663-8b26-c557bf7b5265"
      },
      "outputs": [
        {
          "name": "stdout",
          "output_type": "stream",
          "text": [
            "Using Apple Silicon GPU (MPS) for pytorch\n"
          ]
        },
        {
          "data": {
            "text/plain": [
              "{'cpu': 'Apple M3 Max',\n",
              " 'gpus': ['Apple Metal (MPS)', 'Apple M3 Max'],\n",
              " 'gpus_compute': ['Apple Metal (MPS)', 'Apple M3 Max'],\n",
              " 'os': {'system': 'Darwin',\n",
              "  'release': '24.6.0',\n",
              "  'version': 'Darwin Kernel Version 24.6.0: Mon Jul 14 11:30:55 PDT 2025; root:xnu-11417.140.69~1/RELEASE_ARM64_T6031',\n",
              "  'machine': 'arm64'}}"
            ]
          },
          "execution_count": 2,
          "metadata": {},
          "output_type": "execute_result"
        }
      ],
      "source": [
        "import logging\n",
        "import itertools\n",
        "\n",
        "import numpy as np\n",
        "import pandas as pd\n",
        "from tqdm.auto import tqdm\n",
        "\n",
        "from netsci.system_info import get_system_info\n",
        "from netsci.models.random import erdos_renyi\n",
        "import netsci.metrics.motifs as nsm\n",
        "\n",
        "\n",
        "logging.basicConfig()\n",
        "tqdm.pandas()\n",
        "np.set_printoptions(linewidth=200)\n",
        "\n",
        "\n",
        "system_info = get_system_info()\n",
        "system_info"
      ]
    },
    {
      "cell_type": "markdown",
      "metadata": {
        "id": "NP3jkpaU_wGM"
      },
      "source": [
        "## Sanity checks"
      ]
    },
    {
      "cell_type": "markdown",
      "metadata": {
        "id": "aolFIpLk_6eE"
      },
      "source": [
        "GPU usage"
      ]
    },
    {
      "cell_type": "code",
      "execution_count": 3,
      "metadata": {
        "colab": {
          "base_uri": "https://localhost:8080/"
        },
        "id": "_vFbZsIAoXtT",
        "outputId": "663ed321-cd74-47ba-fdb7-61e416380c4c"
      },
      "outputs": [
        {
          "name": "stdout",
          "output_type": "stream",
          "text": [
            "[2388856320 1593171968   88164136  177089248   88542848   88546152   19678852   19597094   19599792    6562814    1085213    2179243    1090322    1090911     241642       4381]\n",
            "[2388856320 1593171968   88164136  177089248   88542848   88546144   19678852   19597094   19599792    6562814    1085213    2179243    1090322    1090911     241642       4381]\n"
          ]
        }
      ],
      "source": [
        "A = erdos_renyi(n=3000, p=0.1, random_state=71070)\n",
        "\n",
        "# logging.getLogger(\"netsci.metrics.motifs_gpu\").setLevel(logging.DEBUG)\n",
        "\n",
        "print(nsm.motifs(A, algorithm=\"matmul\"))\n",
        "print(nsm.motifs(A, algorithm=\"gpu\"))"
      ]
    },
    {
      "cell_type": "markdown",
      "metadata": {
        "id": "eQ6fmeCXAFJr"
      },
      "source": [
        "GPU timing"
      ]
    },
    {
      "cell_type": "code",
      "execution_count": 4,
      "metadata": {
        "colab": {
          "base_uri": "https://localhost:8080/"
        },
        "id": "Ie83bU4oVS0S",
        "outputId": "6e4a6844-d3ff-4045-f4b5-ab892dadb46a"
      },
      "outputs": [
        {
          "name": "stdout",
          "output_type": "stream",
          "text": [
            "[2388856320 1593171968   88164136  177089248   88542848   88546152   19678852   19597094   19599792    6562814    1085213    2179243    1090322    1090911     241642       4381]\n",
            "CPU took 0.644 sec.\n",
            "[2388856320 1593171968   88164136  177089248   88542848   88546144   19678852   19597094   19599792    6562814    1085213    2179243    1090322    1090911     241642       4381]\n",
            "GPU took 0.182 sec.\n",
            "182\n"
          ]
        }
      ],
      "source": [
        "from netsci.tests.profiler import Timer\n",
        "\n",
        "\n",
        "with Timer(logger=print, desc=\"CPU\"):\n",
        "    print(nsm.motifs(A, algorithm=\"matmul\"))\n",
        "\n",
        "with Timer(logger=print, desc=\"GPU\") as t:\n",
        "    print(nsm.motifs(A, algorithm=\"gpu\"))\n",
        "print(t.interval_ms)"
      ]
    },
    {
      "cell_type": "markdown",
      "metadata": {
        "id": "0jDsspXgAY-4"
      },
      "source": [
        "## Experiments"
      ]
    },
    {
      "cell_type": "markdown",
      "metadata": {
        "id": "-QpWw9G3Aon8"
      },
      "source": [
        "Experiment configurations"
      ]
    },
    {
      "cell_type": "code",
      "execution_count": 5,
      "metadata": {
        "colab": {
          "base_uri": "https://localhost:8080/",
          "height": 441
        },
        "id": "WVoymGLyWwjE",
        "outputId": "17658da0-1168-48a2-eba9-8f0cf394bdc6"
      },
      "outputs": [
        {
          "name": "stdout",
          "output_type": "stream",
          "text": [
            "[ 500 1000 1500 2000 2500 3000 3500] [0.05 0.1  0.15 0.2  0.25 0.3  0.35 0.4 ]\n"
          ]
        },
        {
          "data": {
            "text/html": [
              "<div>\n",
              "<style scoped>\n",
              "    .dataframe tbody tr th:only-of-type {\n",
              "        vertical-align: middle;\n",
              "    }\n",
              "\n",
              "    .dataframe tbody tr th {\n",
              "        vertical-align: top;\n",
              "    }\n",
              "\n",
              "    .dataframe thead th {\n",
              "        text-align: right;\n",
              "    }\n",
              "</style>\n",
              "<table border=\"1\" class=\"dataframe\">\n",
              "  <thead>\n",
              "    <tr style=\"text-align: right;\">\n",
              "      <th></th>\n",
              "      <th>n</th>\n",
              "      <th>p</th>\n",
              "      <th>device</th>\n",
              "      <th>repetition</th>\n",
              "      <th>random_state</th>\n",
              "    </tr>\n",
              "  </thead>\n",
              "  <tbody>\n",
              "    <tr>\n",
              "      <th>0</th>\n",
              "      <td>500</td>\n",
              "      <td>0.05</td>\n",
              "      <td>GPU</td>\n",
              "      <td>0</td>\n",
              "      <td>71070</td>\n",
              "    </tr>\n",
              "    <tr>\n",
              "      <th>1</th>\n",
              "      <td>500</td>\n",
              "      <td>0.05</td>\n",
              "      <td>GPU</td>\n",
              "      <td>1</td>\n",
              "      <td>71070</td>\n",
              "    </tr>\n",
              "    <tr>\n",
              "      <th>2</th>\n",
              "      <td>500</td>\n",
              "      <td>0.05</td>\n",
              "      <td>GPU</td>\n",
              "      <td>2</td>\n",
              "      <td>71070</td>\n",
              "    </tr>\n",
              "    <tr>\n",
              "      <th>3</th>\n",
              "      <td>500</td>\n",
              "      <td>0.05</td>\n",
              "      <td>GPU</td>\n",
              "      <td>3</td>\n",
              "      <td>71070</td>\n",
              "    </tr>\n",
              "    <tr>\n",
              "      <th>4</th>\n",
              "      <td>500</td>\n",
              "      <td>0.05</td>\n",
              "      <td>GPU</td>\n",
              "      <td>4</td>\n",
              "      <td>71070</td>\n",
              "    </tr>\n",
              "    <tr>\n",
              "      <th>...</th>\n",
              "      <td>...</td>\n",
              "      <td>...</td>\n",
              "      <td>...</td>\n",
              "      <td>...</td>\n",
              "      <td>...</td>\n",
              "    </tr>\n",
              "    <tr>\n",
              "      <th>555</th>\n",
              "      <td>3500</td>\n",
              "      <td>0.40</td>\n",
              "      <td>CPU</td>\n",
              "      <td>0</td>\n",
              "      <td>71070</td>\n",
              "    </tr>\n",
              "    <tr>\n",
              "      <th>556</th>\n",
              "      <td>3500</td>\n",
              "      <td>0.40</td>\n",
              "      <td>CPU</td>\n",
              "      <td>1</td>\n",
              "      <td>71070</td>\n",
              "    </tr>\n",
              "    <tr>\n",
              "      <th>557</th>\n",
              "      <td>3500</td>\n",
              "      <td>0.40</td>\n",
              "      <td>CPU</td>\n",
              "      <td>2</td>\n",
              "      <td>71070</td>\n",
              "    </tr>\n",
              "    <tr>\n",
              "      <th>558</th>\n",
              "      <td>3500</td>\n",
              "      <td>0.40</td>\n",
              "      <td>CPU</td>\n",
              "      <td>3</td>\n",
              "      <td>71070</td>\n",
              "    </tr>\n",
              "    <tr>\n",
              "      <th>559</th>\n",
              "      <td>3500</td>\n",
              "      <td>0.40</td>\n",
              "      <td>CPU</td>\n",
              "      <td>4</td>\n",
              "      <td>71070</td>\n",
              "    </tr>\n",
              "  </tbody>\n",
              "</table>\n",
              "<p>560 rows × 5 columns</p>\n",
              "</div>"
            ],
            "text/plain": [
              "        n     p device  repetition  random_state\n",
              "0     500  0.05    GPU           0         71070\n",
              "1     500  0.05    GPU           1         71070\n",
              "2     500  0.05    GPU           2         71070\n",
              "3     500  0.05    GPU           3         71070\n",
              "4     500  0.05    GPU           4         71070\n",
              "..    ...   ...    ...         ...           ...\n",
              "555  3500  0.40    CPU           0         71070\n",
              "556  3500  0.40    CPU           1         71070\n",
              "557  3500  0.40    CPU           2         71070\n",
              "558  3500  0.40    CPU           3         71070\n",
              "559  3500  0.40    CPU           4         71070\n",
              "\n",
              "[560 rows x 5 columns]"
            ]
          },
          "execution_count": 5,
          "metadata": {},
          "output_type": "execute_result"
        }
      ],
      "source": [
        "# ns = np.arange(0, 500, 100)[1:]\n",
        "ns = np.arange(0, 4000, 500)[1:]\n",
        "ps = np.linspace(0, 0.4, 8 + 1)[1:]\n",
        "print(ns, ps)\n",
        "devices = (\"GPU\", \"CPU\")\n",
        "n_repetitions = 5\n",
        "\n",
        "# ns, ps = ns[:2], ps[:3]\n",
        "\n",
        "experiments = pd.DataFrame(\n",
        "    itertools.product(ns, ps, devices, np.arange(n_repetitions)),\n",
        "    columns=[\"n\", \"p\", \"device\", \"repetition\"],\n",
        ").assign(random_state=71070)\n",
        "\n",
        "# display(experiments.agg(['nunique']))\n",
        "experiments"
      ]
    },
    {
      "cell_type": "markdown",
      "metadata": {
        "id": "25v1gSJIAwHq"
      },
      "source": [
        "Run experiments"
      ]
    },
    {
      "cell_type": "code",
      "execution_count": 6,
      "metadata": {
        "colab": {
          "base_uri": "https://localhost:8080/",
          "height": 455,
          "referenced_widgets": [
            "8921fc85818c42fa9e7be82d5484e5f0",
            "331464e0573a418ca690e578a66c327e",
            "d64f29a5a346418ca58a89e6d96c03a8",
            "f32d90790e3c4cf8bca32cca81f0e179",
            "de7b5010c1b548feaa60f7254c01e190",
            "8c5173ac50ea4d3d8d9464b8e9800a16",
            "88be4e861c504e97af63e0bc2ec99dcd",
            "16fe4a327f4a48d780f35ce21422c2bf",
            "d8abead0e8944ccfa30bed5bef02922c",
            "6f392a5c0abc4c789d29f2338362c822",
            "fa65f01962b84a53b5ced9558df58e26"
          ]
        },
        "id": "dEendJi4aQYD",
        "outputId": "de277ffd-c813-4efc-ef7a-8e65aabffa96"
      },
      "outputs": [
        {
          "data": {
            "application/vnd.jupyter.widget-view+json": {
              "model_id": "2c077ab639d74b45b0db06b72e2a69ae",
              "version_major": 2,
              "version_minor": 0
            },
            "text/plain": [
              "  0%|          | 0/560 [00:00<?, ?it/s]"
            ]
          },
          "metadata": {},
          "output_type": "display_data"
        },
        {
          "data": {
            "text/html": [
              "<div>\n",
              "<style scoped>\n",
              "    .dataframe tbody tr th:only-of-type {\n",
              "        vertical-align: middle;\n",
              "    }\n",
              "\n",
              "    .dataframe tbody tr th {\n",
              "        vertical-align: top;\n",
              "    }\n",
              "\n",
              "    .dataframe thead th {\n",
              "        text-align: right;\n",
              "    }\n",
              "</style>\n",
              "<table border=\"1\" class=\"dataframe\">\n",
              "  <thead>\n",
              "    <tr style=\"text-align: right;\">\n",
              "      <th></th>\n",
              "      <th>n</th>\n",
              "      <th>p</th>\n",
              "      <th>device</th>\n",
              "      <th>repetition</th>\n",
              "      <th>random_state</th>\n",
              "      <th>timestamp</th>\n",
              "      <th>algorithm</th>\n",
              "      <th>computation_time</th>\n",
              "      <th>motifs</th>\n",
              "      <th>processor</th>\n",
              "    </tr>\n",
              "  </thead>\n",
              "  <tbody>\n",
              "    <tr>\n",
              "      <th>0</th>\n",
              "      <td>500</td>\n",
              "      <td>0.05</td>\n",
              "      <td>GPU</td>\n",
              "      <td>0</td>\n",
              "      <td>71070</td>\n",
              "      <td>2025-08-24 13:15:03.479330</td>\n",
              "      <td>gpu</td>\n",
              "      <td>0.007</td>\n",
              "      <td>[15207804, 4818168, 126809, 254497, 127365, 12...</td>\n",
              "      <td>Apple M3 Max</td>\n",
              "    </tr>\n",
              "    <tr>\n",
              "      <th>1</th>\n",
              "      <td>500</td>\n",
              "      <td>0.05</td>\n",
              "      <td>GPU</td>\n",
              "      <td>1</td>\n",
              "      <td>71070</td>\n",
              "      <td>2025-08-24 13:14:25.880047</td>\n",
              "      <td>gpu</td>\n",
              "      <td>0.012</td>\n",
              "      <td>[15207804, 4818168, 126809, 254497, 127365, 12...</td>\n",
              "      <td>Apple M3 Max</td>\n",
              "    </tr>\n",
              "    <tr>\n",
              "      <th>2</th>\n",
              "      <td>500</td>\n",
              "      <td>0.05</td>\n",
              "      <td>GPU</td>\n",
              "      <td>2</td>\n",
              "      <td>71070</td>\n",
              "      <td>2025-08-24 13:15:06.904806</td>\n",
              "      <td>gpu</td>\n",
              "      <td>0.007</td>\n",
              "      <td>[15207804, 4818168, 126809, 254497, 127365, 12...</td>\n",
              "      <td>Apple M3 Max</td>\n",
              "    </tr>\n",
              "    <tr>\n",
              "      <th>3</th>\n",
              "      <td>500</td>\n",
              "      <td>0.05</td>\n",
              "      <td>GPU</td>\n",
              "      <td>3</td>\n",
              "      <td>71070</td>\n",
              "      <td>2025-08-24 13:15:25.681058</td>\n",
              "      <td>gpu</td>\n",
              "      <td>0.013</td>\n",
              "      <td>[15207804, 4818168, 126809, 254497, 127365, 12...</td>\n",
              "      <td>Apple M3 Max</td>\n",
              "    </tr>\n",
              "    <tr>\n",
              "      <th>4</th>\n",
              "      <td>500</td>\n",
              "      <td>0.05</td>\n",
              "      <td>GPU</td>\n",
              "      <td>4</td>\n",
              "      <td>71070</td>\n",
              "      <td>2025-08-24 13:15:07.158389</td>\n",
              "      <td>gpu</td>\n",
              "      <td>0.006</td>\n",
              "      <td>[15207804, 4818168, 126809, 254497, 127365, 12...</td>\n",
              "      <td>Apple M3 Max</td>\n",
              "    </tr>\n",
              "    <tr>\n",
              "      <th>...</th>\n",
              "      <td>...</td>\n",
              "      <td>...</td>\n",
              "      <td>...</td>\n",
              "      <td>...</td>\n",
              "      <td>...</td>\n",
              "      <td>...</td>\n",
              "      <td>...</td>\n",
              "      <td>...</td>\n",
              "      <td>...</td>\n",
              "      <td>...</td>\n",
              "    </tr>\n",
              "    <tr>\n",
              "      <th>555</th>\n",
              "      <td>3500</td>\n",
              "      <td>0.40</td>\n",
              "      <td>CPU</td>\n",
              "      <td>0</td>\n",
              "      <td>71070</td>\n",
              "      <td>2025-08-24 13:14:26.048684</td>\n",
              "      <td>matmul</td>\n",
              "      <td>1.036</td>\n",
              "      <td>[333532576, 1333083904, 444632288, 887982720, ...</td>\n",
              "      <td>Apple M3 Max</td>\n",
              "    </tr>\n",
              "    <tr>\n",
              "      <th>556</th>\n",
              "      <td>3500</td>\n",
              "      <td>0.40</td>\n",
              "      <td>CPU</td>\n",
              "      <td>1</td>\n",
              "      <td>71070</td>\n",
              "      <td>2025-08-24 13:15:32.475808</td>\n",
              "      <td>matmul</td>\n",
              "      <td>1.040</td>\n",
              "      <td>[333532576, 1333083904, 444632288, 887982720, ...</td>\n",
              "      <td>Apple M3 Max</td>\n",
              "    </tr>\n",
              "    <tr>\n",
              "      <th>557</th>\n",
              "      <td>3500</td>\n",
              "      <td>0.40</td>\n",
              "      <td>CPU</td>\n",
              "      <td>2</td>\n",
              "      <td>71070</td>\n",
              "      <td>2025-08-24 13:14:20.032885</td>\n",
              "      <td>matmul</td>\n",
              "      <td>1.060</td>\n",
              "      <td>[333532576, 1333083904, 444632288, 887982720, ...</td>\n",
              "      <td>Apple M3 Max</td>\n",
              "    </tr>\n",
              "    <tr>\n",
              "      <th>558</th>\n",
              "      <td>3500</td>\n",
              "      <td>0.40</td>\n",
              "      <td>CPU</td>\n",
              "      <td>3</td>\n",
              "      <td>71070</td>\n",
              "      <td>2025-08-24 13:13:40.010962</td>\n",
              "      <td>matmul</td>\n",
              "      <td>1.040</td>\n",
              "      <td>[333532576, 1333083904, 444632288, 887982720, ...</td>\n",
              "      <td>Apple M3 Max</td>\n",
              "    </tr>\n",
              "    <tr>\n",
              "      <th>559</th>\n",
              "      <td>3500</td>\n",
              "      <td>0.40</td>\n",
              "      <td>CPU</td>\n",
              "      <td>4</td>\n",
              "      <td>71070</td>\n",
              "      <td>2025-08-24 13:13:15.339921</td>\n",
              "      <td>matmul</td>\n",
              "      <td>1.064</td>\n",
              "      <td>[333532576, 1333083904, 444632288, 887982720, ...</td>\n",
              "      <td>Apple M3 Max</td>\n",
              "    </tr>\n",
              "  </tbody>\n",
              "</table>\n",
              "<p>560 rows × 10 columns</p>\n",
              "</div>"
            ],
            "text/plain": [
              "        n     p device  repetition  random_state                  timestamp  \\\n",
              "0     500  0.05    GPU           0         71070 2025-08-24 13:15:03.479330   \n",
              "1     500  0.05    GPU           1         71070 2025-08-24 13:14:25.880047   \n",
              "2     500  0.05    GPU           2         71070 2025-08-24 13:15:06.904806   \n",
              "3     500  0.05    GPU           3         71070 2025-08-24 13:15:25.681058   \n",
              "4     500  0.05    GPU           4         71070 2025-08-24 13:15:07.158389   \n",
              "..    ...   ...    ...         ...           ...                        ...   \n",
              "555  3500  0.40    CPU           0         71070 2025-08-24 13:14:26.048684   \n",
              "556  3500  0.40    CPU           1         71070 2025-08-24 13:15:32.475808   \n",
              "557  3500  0.40    CPU           2         71070 2025-08-24 13:14:20.032885   \n",
              "558  3500  0.40    CPU           3         71070 2025-08-24 13:13:40.010962   \n",
              "559  3500  0.40    CPU           4         71070 2025-08-24 13:13:15.339921   \n",
              "\n",
              "    algorithm  computation_time  \\\n",
              "0         gpu             0.007   \n",
              "1         gpu             0.012   \n",
              "2         gpu             0.007   \n",
              "3         gpu             0.013   \n",
              "4         gpu             0.006   \n",
              "..        ...               ...   \n",
              "555    matmul             1.036   \n",
              "556    matmul             1.040   \n",
              "557    matmul             1.060   \n",
              "558    matmul             1.040   \n",
              "559    matmul             1.064   \n",
              "\n",
              "                                                motifs     processor  \n",
              "0    [15207804, 4818168, 126809, 254497, 127365, 12...  Apple M3 Max  \n",
              "1    [15207804, 4818168, 126809, 254497, 127365, 12...  Apple M3 Max  \n",
              "2    [15207804, 4818168, 126809, 254497, 127365, 12...  Apple M3 Max  \n",
              "3    [15207804, 4818168, 126809, 254497, 127365, 12...  Apple M3 Max  \n",
              "4    [15207804, 4818168, 126809, 254497, 127365, 12...  Apple M3 Max  \n",
              "..                                                 ...           ...  \n",
              "555  [333532576, 1333083904, 444632288, 887982720, ...  Apple M3 Max  \n",
              "556  [333532576, 1333083904, 444632288, 887982720, ...  Apple M3 Max  \n",
              "557  [333532576, 1333083904, 444632288, 887982720, ...  Apple M3 Max  \n",
              "558  [333532576, 1333083904, 444632288, 887982720, ...  Apple M3 Max  \n",
              "559  [333532576, 1333083904, 444632288, 887982720, ...  Apple M3 Max  \n",
              "\n",
              "[560 rows x 10 columns]"
            ]
          },
          "execution_count": 6,
          "metadata": {},
          "output_type": "execute_result"
        }
      ],
      "source": [
        "logging.getLogger(\"netsci.metrics.motifs_gpu\").setLevel(logging.INFO)\n",
        "\n",
        "\n",
        "def measure(A, device):\n",
        "    timestamp = pd.Timestamp.now()\n",
        "\n",
        "    algorithm = \"gpu\" if device == \"GPU\" else \"matmul\"\n",
        "    with Timer() as t:\n",
        "        f = nsm.motifs(A, algorithm=algorithm)\n",
        "    return {\n",
        "        \"timestamp\": timestamp,\n",
        "        \"algorithm\": algorithm,\n",
        "        \"computation_time\": t.interval_ms / 1000,\n",
        "        \"motifs\": f,\n",
        "    }\n",
        "\n",
        "\n",
        "times = experiments.join(\n",
        "    experiments.sample(frac=1)\n",
        "    .progress_apply(\n",
        "        lambda r: measure(erdos_renyi(r.n, r.p, random_state=r.random_state), r.device),\n",
        "        axis=1,\n",
        "    )\n",
        "    .apply(pd.Series)\n",
        ").assign(\n",
        "    processor=lambda df: df.device.replace(\n",
        "        dict(CPU=system_info[\"cpu\"], GPU=system_info[\"gpus_compute\"][-1])\n",
        "    )\n",
        ")\n",
        "times"
      ]
    },
    {
      "cell_type": "code",
      "execution_count": 7,
      "metadata": {
        "id": "z3qWR_TuWQ2j"
      },
      "outputs": [
        {
          "data": {
            "text/html": [
              "<div>\n",
              "<style scoped>\n",
              "    .dataframe tbody tr th:only-of-type {\n",
              "        vertical-align: middle;\n",
              "    }\n",
              "\n",
              "    .dataframe tbody tr th {\n",
              "        vertical-align: top;\n",
              "    }\n",
              "\n",
              "    .dataframe thead th {\n",
              "        text-align: right;\n",
              "    }\n",
              "</style>\n",
              "<table border=\"1\" class=\"dataframe\">\n",
              "  <thead>\n",
              "    <tr style=\"text-align: right;\">\n",
              "      <th></th>\n",
              "      <th>n</th>\n",
              "      <th>p</th>\n",
              "      <th>device</th>\n",
              "      <th>repetition</th>\n",
              "      <th>random_state</th>\n",
              "      <th>timestamp</th>\n",
              "      <th>algorithm</th>\n",
              "      <th>computation_time</th>\n",
              "      <th>motifs</th>\n",
              "      <th>processor</th>\n",
              "    </tr>\n",
              "  </thead>\n",
              "  <tbody>\n",
              "    <tr>\n",
              "      <th>80</th>\n",
              "      <td>1000</td>\n",
              "      <td>0.05</td>\n",
              "      <td>GPU</td>\n",
              "      <td>0</td>\n",
              "      <td>71070</td>\n",
              "      <td>2025-08-24 13:14:56.894205</td>\n",
              "      <td>gpu</td>\n",
              "      <td>0.012</td>\n",
              "      <td>[122228200, 38513072, 1013949, 2021008, 101137...</td>\n",
              "      <td>Apple M3 Max</td>\n",
              "    </tr>\n",
              "    <tr>\n",
              "      <th>81</th>\n",
              "      <td>1000</td>\n",
              "      <td>0.05</td>\n",
              "      <td>GPU</td>\n",
              "      <td>1</td>\n",
              "      <td>71070</td>\n",
              "      <td>2025-08-24 13:14:45.098153</td>\n",
              "      <td>gpu</td>\n",
              "      <td>0.012</td>\n",
              "      <td>[122228200, 38513072, 1013949, 2021008, 101137...</td>\n",
              "      <td>Apple M3 Max</td>\n",
              "    </tr>\n",
              "    <tr>\n",
              "      <th>82</th>\n",
              "      <td>1000</td>\n",
              "      <td>0.05</td>\n",
              "      <td>GPU</td>\n",
              "      <td>2</td>\n",
              "      <td>71070</td>\n",
              "      <td>2025-08-24 13:14:51.304547</td>\n",
              "      <td>gpu</td>\n",
              "      <td>0.013</td>\n",
              "      <td>[122228200, 38513072, 1013949, 2021008, 101137...</td>\n",
              "      <td>Apple M3 Max</td>\n",
              "    </tr>\n",
              "    <tr>\n",
              "      <th>83</th>\n",
              "      <td>1000</td>\n",
              "      <td>0.05</td>\n",
              "      <td>GPU</td>\n",
              "      <td>3</td>\n",
              "      <td>71070</td>\n",
              "      <td>2025-08-24 13:14:56.925483</td>\n",
              "      <td>gpu</td>\n",
              "      <td>0.012</td>\n",
              "      <td>[122228200, 38513072, 1013949, 2021008, 101137...</td>\n",
              "      <td>Apple M3 Max</td>\n",
              "    </tr>\n",
              "    <tr>\n",
              "      <th>84</th>\n",
              "      <td>1000</td>\n",
              "      <td>0.05</td>\n",
              "      <td>GPU</td>\n",
              "      <td>4</td>\n",
              "      <td>71070</td>\n",
              "      <td>2025-08-24 13:14:58.110542</td>\n",
              "      <td>gpu</td>\n",
              "      <td>0.012</td>\n",
              "      <td>[122228200, 38513072, 1013949, 2021008, 101137...</td>\n",
              "      <td>Apple M3 Max</td>\n",
              "    </tr>\n",
              "    <tr>\n",
              "      <th>...</th>\n",
              "      <td>...</td>\n",
              "      <td>...</td>\n",
              "      <td>...</td>\n",
              "      <td>...</td>\n",
              "      <td>...</td>\n",
              "      <td>...</td>\n",
              "      <td>...</td>\n",
              "      <td>...</td>\n",
              "      <td>...</td>\n",
              "      <td>...</td>\n",
              "    </tr>\n",
              "    <tr>\n",
              "      <th>555</th>\n",
              "      <td>3500</td>\n",
              "      <td>0.40</td>\n",
              "      <td>CPU</td>\n",
              "      <td>0</td>\n",
              "      <td>71070</td>\n",
              "      <td>2025-08-24 13:14:26.048684</td>\n",
              "      <td>matmul</td>\n",
              "      <td>1.036</td>\n",
              "      <td>[333532576, 1333083904, 444632288, 887982720, ...</td>\n",
              "      <td>Apple M3 Max</td>\n",
              "    </tr>\n",
              "    <tr>\n",
              "      <th>556</th>\n",
              "      <td>3500</td>\n",
              "      <td>0.40</td>\n",
              "      <td>CPU</td>\n",
              "      <td>1</td>\n",
              "      <td>71070</td>\n",
              "      <td>2025-08-24 13:15:32.475808</td>\n",
              "      <td>matmul</td>\n",
              "      <td>1.040</td>\n",
              "      <td>[333532576, 1333083904, 444632288, 887982720, ...</td>\n",
              "      <td>Apple M3 Max</td>\n",
              "    </tr>\n",
              "    <tr>\n",
              "      <th>557</th>\n",
              "      <td>3500</td>\n",
              "      <td>0.40</td>\n",
              "      <td>CPU</td>\n",
              "      <td>2</td>\n",
              "      <td>71070</td>\n",
              "      <td>2025-08-24 13:14:20.032885</td>\n",
              "      <td>matmul</td>\n",
              "      <td>1.060</td>\n",
              "      <td>[333532576, 1333083904, 444632288, 887982720, ...</td>\n",
              "      <td>Apple M3 Max</td>\n",
              "    </tr>\n",
              "    <tr>\n",
              "      <th>558</th>\n",
              "      <td>3500</td>\n",
              "      <td>0.40</td>\n",
              "      <td>CPU</td>\n",
              "      <td>3</td>\n",
              "      <td>71070</td>\n",
              "      <td>2025-08-24 13:13:40.010962</td>\n",
              "      <td>matmul</td>\n",
              "      <td>1.040</td>\n",
              "      <td>[333532576, 1333083904, 444632288, 887982720, ...</td>\n",
              "      <td>Apple M3 Max</td>\n",
              "    </tr>\n",
              "    <tr>\n",
              "      <th>559</th>\n",
              "      <td>3500</td>\n",
              "      <td>0.40</td>\n",
              "      <td>CPU</td>\n",
              "      <td>4</td>\n",
              "      <td>71070</td>\n",
              "      <td>2025-08-24 13:13:15.339921</td>\n",
              "      <td>matmul</td>\n",
              "      <td>1.064</td>\n",
              "      <td>[333532576, 1333083904, 444632288, 887982720, ...</td>\n",
              "      <td>Apple M3 Max</td>\n",
              "    </tr>\n",
              "  </tbody>\n",
              "</table>\n",
              "<p>390 rows × 10 columns</p>\n",
              "</div>"
            ],
            "text/plain": [
              "        n     p device  repetition  random_state                  timestamp  \\\n",
              "80   1000  0.05    GPU           0         71070 2025-08-24 13:14:56.894205   \n",
              "81   1000  0.05    GPU           1         71070 2025-08-24 13:14:45.098153   \n",
              "82   1000  0.05    GPU           2         71070 2025-08-24 13:14:51.304547   \n",
              "83   1000  0.05    GPU           3         71070 2025-08-24 13:14:56.925483   \n",
              "84   1000  0.05    GPU           4         71070 2025-08-24 13:14:58.110542   \n",
              "..    ...   ...    ...         ...           ...                        ...   \n",
              "555  3500  0.40    CPU           0         71070 2025-08-24 13:14:26.048684   \n",
              "556  3500  0.40    CPU           1         71070 2025-08-24 13:15:32.475808   \n",
              "557  3500  0.40    CPU           2         71070 2025-08-24 13:14:20.032885   \n",
              "558  3500  0.40    CPU           3         71070 2025-08-24 13:13:40.010962   \n",
              "559  3500  0.40    CPU           4         71070 2025-08-24 13:13:15.339921   \n",
              "\n",
              "    algorithm  computation_time  \\\n",
              "80        gpu             0.012   \n",
              "81        gpu             0.012   \n",
              "82        gpu             0.013   \n",
              "83        gpu             0.012   \n",
              "84        gpu             0.012   \n",
              "..        ...               ...   \n",
              "555    matmul             1.036   \n",
              "556    matmul             1.040   \n",
              "557    matmul             1.060   \n",
              "558    matmul             1.040   \n",
              "559    matmul             1.064   \n",
              "\n",
              "                                                motifs     processor  \n",
              "80   [122228200, 38513072, 1013949, 2021008, 101137...  Apple M3 Max  \n",
              "81   [122228200, 38513072, 1013949, 2021008, 101137...  Apple M3 Max  \n",
              "82   [122228200, 38513072, 1013949, 2021008, 101137...  Apple M3 Max  \n",
              "83   [122228200, 38513072, 1013949, 2021008, 101137...  Apple M3 Max  \n",
              "84   [122228200, 38513072, 1013949, 2021008, 101137...  Apple M3 Max  \n",
              "..                                                 ...           ...  \n",
              "555  [333532576, 1333083904, 444632288, 887982720, ...  Apple M3 Max  \n",
              "556  [333532576, 1333083904, 444632288, 887982720, ...  Apple M3 Max  \n",
              "557  [333532576, 1333083904, 444632288, 887982720, ...  Apple M3 Max  \n",
              "558  [333532576, 1333083904, 444632288, 887982720, ...  Apple M3 Max  \n",
              "559  [333532576, 1333083904, 444632288, 887982720, ...  Apple M3 Max  \n",
              "\n",
              "[390 rows x 10 columns]"
            ]
          },
          "metadata": {},
          "output_type": "display_data"
        },
        {
          "data": {
            "text/plain": [
              "array([[122228200,  38513072,   1013949,   2021008,   1011374,   1010214,    106313,    106651,    106471,     35410,      2821,      5619,      2748,      2865,       276,         3],\n",
              "       [122228200,  38513072,   1013949,   2021008,   1011374,   1010214,    106313,    106651,    106471,     35410,      2821,      5619,      2748,      2865,       276,         3],\n",
              "       [122228200,  38513072,   1013949,   2021008,   1011374,   1010214,    106313,    106651,    106471,     35410,      2821,      5619,      2748,      2865,       276,         3],\n",
              "       [122228200,  38513072,   1013949,   2021008,   1011374,   1010214,    106313,    106651,    106471,     35410,      2821,      5619,      2748,      2865,       276,         3],\n",
              "       [122228200,  38513072,   1013949,   2021008,   1011374,   1010214,    106313,    106651,    106471,     35410,      2821,      5619,      2748,      2865,       276,         3],\n",
              "       [122228216,  38513068,   1013949,   2021008,   1011374,   1010214,    106313,    106651,    106471,     35410,      2821,      5619,      2748,      2865,       276,         3],\n",
              "       [122228216,  38513068,   1013949,   2021008,   1011374,   1010214,    106313,    106651,    106471,     35410,      2821,      5619,      2748,      2865,       276,         3],\n",
              "       [122228216,  38513068,   1013949,   2021008,   1011374,   1010214,    106313,    106651,    106471,     35410,      2821,      5619,      2748,      2865,       276,         3],\n",
              "       [122228216,  38513068,   1013949,   2021008,   1011374,   1010214,    106313,    106651,    106471,     35410,      2821,      5619,      2748,      2865,       276,         3],\n",
              "       [122228216,  38513068,   1013949,   2021008,   1011374,   1010214,    106313,    106651,    106471,     35410,      2821,      5619,      2748,      2865,       276,         3]])"
            ]
          },
          "metadata": {},
          "output_type": "display_data"
        },
        {
          "name": "stdout",
          "output_type": "stream",
          "text": [
            "Warning: Tensor floating point inconsistencies!\n"
          ]
        }
      ],
      "source": [
        "inconsistent_counts = times.groupby([\"n\", \"p\", \"random_state\"]).filter(\n",
        "    lambda g: len(np.unique(np.vstack(g[\"motifs\"]), axis=0)) != 1\n",
        ")\n",
        "\n",
        "if not inconsistent_counts.empty:\n",
        "    display(inconsistent_counts)\n",
        "    display(inconsistent_counts.head(10).motifs.pipe(lambda df: np.vstack(df)))\n",
        "    print(\"Warning: Tensor floating point inconsistencies!\")\n",
        "\n",
        "# assert inconsistent_counts.empty"
      ]
    },
    {
      "cell_type": "code",
      "execution_count": 8,
      "metadata": {
        "id": "LllRZScyhK4I"
      },
      "outputs": [
        {
          "name": "stdout",
          "output_type": "stream",
          "text": [
            "Saving gpu-speedup-times.AppleM3Max.(250824.131535).csv .. \n"
          ]
        }
      ],
      "source": [
        "times_filename = f\"gpu-speedup-times.{system_info['gpus_compute'][-1].replace(' ', '')}.{pd.Timestamp.now().strftime('(%y%m%d.%H%M%S)')}.csv\"\n",
        "print(f\"Saving {times_filename} .. \")\n",
        "times.to_csv(times_filename, index=False)"
      ]
    },
    {
      "cell_type": "markdown",
      "metadata": {
        "id": "F4Q7ahRyBQN7"
      },
      "source": [
        "## Results"
      ]
    },
    {
      "cell_type": "code",
      "execution_count": 9,
      "metadata": {
        "id": "31G3iI9jfOJl"
      },
      "outputs": [],
      "source": [
        "import seaborn as sns\n",
        "\n",
        "%config InlineBackend.figure_format='retina'"
      ]
    },
    {
      "cell_type": "code",
      "execution_count": 10,
      "metadata": {
        "colab": {
          "base_uri": "https://localhost:8080/",
          "height": 256
        },
        "id": "_3G2kdbxfUJN",
        "outputId": "eb8fc168-d10b-4f3d-fb6e-05abddc1119d"
      },
      "outputs": [
        {
          "data": {
            "text/plain": [
              "<seaborn.axisgrid.FacetGrid at 0x3a7b714e0>"
            ]
          },
          "execution_count": 10,
          "metadata": {},
          "output_type": "execute_result"
        },
        {
          "data": {
            "image/png": "[encoded data removed]",
            "text/plain": [
              "<Figure size 735.625x320 with 2 Axes>"
            ]
          },
          "metadata": {
            "image/png": {
              "height": 310,
              "width": 723
            }
          },
          "output_type": "display_data"
        }
      ],
      "source": [
        "g = sns.relplot(\n",
        "    data=times,\n",
        "    x=\"n\",\n",
        "    y=\"computation_time\",\n",
        "    hue=\"p\",\n",
        "    col=\"device\",\n",
        "    kind=\"line\",\n",
        "    markers=True,\n",
        "    style=\"device\",\n",
        "    dashes=False,\n",
        "    palette=\"Blues\",\n",
        "    height=3.2,\n",
        ")\n",
        "g.set_xlabels(\"Nodes\")\n",
        "g.set_ylabels(\"Computation Time [sec]\")"
      ]
    },
    {
      "cell_type": "code",
      "execution_count": 11,
      "metadata": {
        "colab": {
          "base_uri": "https://localhost:8080/",
          "height": 257
        },
        "id": "C3zqIgHU5wr0",
        "outputId": "bad646bb-7b52-4c41-bcb8-439979644c15"
      },
      "outputs": [
        {
          "name": "stderr",
          "output_type": "stream",
          "text": [
            "/var/folders/l9/n_7g_6jn18b24tz8qvw1rgd40000gn/T/ipykernel_12815/4129671821.py:24: UserWarning: set_ticklabels() should only be used with a fixed number of ticks, i.e. after set_ticks() or using a FixedLocator.\n",
            "  g.ax.set_yticklabels([f\"x{t}\" for t in g.ax.get_yticks()])\n"
          ]
        },
        {
          "data": {
            "text/plain": [
              "[Text(0, 0.5, 'x0.5'),\n",
              " Text(0, 1.0, 'x1.0'),\n",
              " Text(0, 1.5, 'x1.5'),\n",
              " Text(0, 2.0, 'x2.0'),\n",
              " Text(0, 2.5, 'x2.5'),\n",
              " Text(0, 3.0, 'x3.0'),\n",
              " Text(0, 3.5, 'x3.5'),\n",
              " Text(0, 4.0, 'x4.0')]"
            ]
          },
          "execution_count": 11,
          "metadata": {},
          "output_type": "execute_result"
        },
        {
          "data": {
            "image/png": "[encoded data removed]",
            "text/plain": [
              "<Figure size 788x320 with 1 Axes>"
            ]
          },
          "metadata": {
            "image/png": {
              "height": 310,
              "width": 779
            }
          },
          "output_type": "display_data"
        }
      ],
      "source": [
        "speedup = (\n",
        "    times.groupby([\"n\", \"p\", \"device\", \"random_state\"])[\"computation_time\"]\n",
        "    .mean()\n",
        "    .unstack([\"device\"])\n",
        "    .assign(speedup=lambda df: df[\"CPU\"] / df[\"GPU\"])\n",
        "    .reset_index()\n",
        "    .assign(device=system_info[\"gpus_compute\"][-1])\n",
        ")\n",
        "\n",
        "g = sns.relplot(\n",
        "    x=\"n\",\n",
        "    y=\"speedup\",\n",
        "    hue=\"device\",\n",
        "    style=\"device\",\n",
        "    data=speedup,\n",
        "    kind=\"line\",\n",
        "    markers=True,\n",
        "    height=3.2,\n",
        "    aspect=2,\n",
        "    palette=\"Greens\",\n",
        ")\n",
        "g.set_xlabels(\"Nodes\")\n",
        "g.set_ylabels(\"Speedup ratio\")\n",
        "g.ax.set_yticklabels([f\"x{t}\" for t in g.ax.get_yticks()])"
      ]
    }
  ],
  "metadata": {
    "accelerator": "GPU",
    "colab": {
      "collapsed_sections": [],
      "name": "gpu_speedup.ipynb",
      "provenance": []
    },
    "kernelspec": {
      "display_name": "netsci-torch",
      "language": "python",
      "name": "python3"
    },
    "language_info": {
      "codemirror_mode": {
        "name": "ipython",
        "version": 3
      },
      "file_extension": ".py",
      "mimetype": "text/x-python",
      "name": "python",
      "nbconvert_exporter": "python",
      "pygments_lexer": "ipython3",
      "version": "3.10.18"
    },
    "widgets": {
      "application/vnd.jupyter.widget-state+json": {
        "16fe4a327f4a48d780f35ce21422c2bf": {
          "model_module": "@jupyter-widgets/base",
          "model_module_version": "1.2.0",
          "model_name": "LayoutModel",
          "state": {
            "_model_module": "@jupyter-widgets/base",
            "_model_module_version": "1.2.0",
            "_model_name": "LayoutModel",
            "_view_count": null,
            "_view_module": "@jupyter-widgets/base",
            "_view_module_version": "1.2.0",
            "_view_name": "LayoutView",
            "align_content": null,
            "align_items": null,
            "align_self": null,
            "border": null,
            "bottom": null,
            "display": null,
            "flex": null,
            "flex_flow": null,
            "grid_area": null,
            "grid_auto_columns": null,
            "grid_auto_flow": null,
            "grid_auto_rows": null,
            "grid_column": null,
            "grid_gap": null,
            "grid_row": null,
            "grid_template_areas": null,
            "grid_template_columns": null,
            "grid_template_rows": null,
            "height": null,
            "justify_content": null,
            "justify_items": null,
            "left": null,
            "margin": null,
            "max_height": null,
            "max_width": null,
            "min_height": null,
            "min_width": null,
            "object_fit": null,
            "object_position": null,
            "order": null,
            "overflow": null,
            "overflow_x": null,
            "overflow_y": null,
            "padding": null,
            "right": null,
            "top": null,
            "visibility": null,
            "width": null
          }
        },
        "331464e0573a418ca690e578a66c327e": {
          "model_module": "@jupyter-widgets/controls",
          "model_module_version": "1.5.0",
          "model_name": "HTMLModel",
          "state": {
            "_dom_classes": [],
            "_model_module": "@jupyter-widgets/controls",
            "_model_module_version": "1.5.0",
            "_model_name": "HTMLModel",
            "_view_count": null,
            "_view_module": "@jupyter-widgets/controls",
            "_view_module_version": "1.5.0",
            "_view_name": "HTMLView",
            "description": "",
            "description_tooltip": null,
            "layout": "IPY_MODEL_8c5173ac50ea4d3d8d9464b8e9800a16",
            "placeholder": "​",
            "style": "IPY_MODEL_88be4e861c504e97af63e0bc2ec99dcd",
            "value": "100%"
          }
        },
        "6f392a5c0abc4c789d29f2338362c822": {
          "model_module": "@jupyter-widgets/base",
          "model_module_version": "1.2.0",
          "model_name": "LayoutModel",
          "state": {
            "_model_module": "@jupyter-widgets/base",
            "_model_module_version": "1.2.0",
            "_model_name": "LayoutModel",
            "_view_count": null,
            "_view_module": "@jupyter-widgets/base",
            "_view_module_version": "1.2.0",
            "_view_name": "LayoutView",
            "align_content": null,
            "align_items": null,
            "align_self": null,
            "border": null,
            "bottom": null,
            "display": null,
            "flex": null,
            "flex_flow": null,
            "grid_area": null,
            "grid_auto_columns": null,
            "grid_auto_flow": null,
            "grid_auto_rows": null,
            "grid_column": null,
            "grid_gap": null,
            "grid_row": null,
            "grid_template_areas": null,
            "grid_template_columns": null,
            "grid_template_rows": null,
            "height": null,
            "justify_content": null,
            "justify_items": null,
            "left": null,
            "margin": null,
            "max_height": null,
            "max_width": null,
            "min_height": null,
            "min_width": null,
            "object_fit": null,
            "object_position": null,
            "order": null,
            "overflow": null,
            "overflow_x": null,
            "overflow_y": null,
            "padding": null,
            "right": null,
            "top": null,
            "visibility": null,
            "width": null
          }
        },
        "88be4e861c504e97af63e0bc2ec99dcd": {
          "model_module": "@jupyter-widgets/controls",
          "model_module_version": "1.5.0",
          "model_name": "DescriptionStyleModel",
          "state": {
            "_model_module": "@jupyter-widgets/controls",
            "_model_module_version": "1.5.0",
            "_model_name": "DescriptionStyleModel",
            "_view_count": null,
            "_view_module": "@jupyter-widgets/base",
            "_view_module_version": "1.2.0",
            "_view_name": "StyleView",
            "description_width": ""
          }
        },
        "8921fc85818c42fa9e7be82d5484e5f0": {
          "model_module": "@jupyter-widgets/controls",
          "model_module_version": "1.5.0",
          "model_name": "HBoxModel",
          "state": {
            "_dom_classes": [],
            "_model_module": "@jupyter-widgets/controls",
            "_model_module_version": "1.5.0",
            "_model_name": "HBoxModel",
            "_view_count": null,
            "_view_module": "@jupyter-widgets/controls",
            "_view_module_version": "1.5.0",
            "_view_name": "HBoxView",
            "box_style": "",
            "children": [
              "IPY_MODEL_331464e0573a418ca690e578a66c327e",
              "IPY_MODEL_d64f29a5a346418ca58a89e6d96c03a8",
              "IPY_MODEL_f32d90790e3c4cf8bca32cca81f0e179"
            ],
            "layout": "IPY_MODEL_de7b5010c1b548feaa60f7254c01e190"
          }
        },
        "8c5173ac50ea4d3d8d9464b8e9800a16": {
          "model_module": "@jupyter-widgets/base",
          "model_module_version": "1.2.0",
          "model_name": "LayoutModel",
          "state": {
            "_model_module": "@jupyter-widgets/base",
            "_model_module_version": "1.2.0",
            "_model_name": "LayoutModel",
            "_view_count": null,
            "_view_module": "@jupyter-widgets/base",
            "_view_module_version": "1.2.0",
            "_view_name": "LayoutView",
            "align_content": null,
            "align_items": null,
            "align_self": null,
            "border": null,
            "bottom": null,
            "display": null,
            "flex": null,
            "flex_flow": null,
            "grid_area": null,
            "grid_auto_columns": null,
            "grid_auto_flow": null,
            "grid_auto_rows": null,
            "grid_column": null,
            "grid_gap": null,
            "grid_row": null,
            "grid_template_areas": null,
            "grid_template_columns": null,
            "grid_template_rows": null,
            "height": null,
            "justify_content": null,
            "justify_items": null,
            "left": null,
            "margin": null,
            "max_height": null,
            "max_width": null,
            "min_height": null,
            "min_width": null,
            "object_fit": null,
            "object_position": null,
            "order": null,
            "overflow": null,
            "overflow_x": null,
            "overflow_y": null,
            "padding": null,
            "right": null,
            "top": null,
            "visibility": null,
            "width": null
          }
        },
        "d64f29a5a346418ca58a89e6d96c03a8": {
          "model_module": "@jupyter-widgets/controls",
          "model_module_version": "1.5.0",
          "model_name": "FloatProgressModel",
          "state": {
            "_dom_classes": [],
            "_model_module": "@jupyter-widgets/controls",
            "_model_module_version": "1.5.0",
            "_model_name": "FloatProgressModel",
            "_view_count": null,
            "_view_module": "@jupyter-widgets/controls",
            "_view_module_version": "1.5.0",
            "_view_name": "ProgressView",
            "bar_style": "success",
            "description": "",
            "description_tooltip": null,
            "layout": "IPY_MODEL_16fe4a327f4a48d780f35ce21422c2bf",
            "max": 480,
            "min": 0,
            "orientation": "horizontal",
            "style": "IPY_MODEL_d8abead0e8944ccfa30bed5bef02922c",
            "value": 480
          }
        },
        "d8abead0e8944ccfa30bed5bef02922c": {
          "model_module": "@jupyter-widgets/controls",
          "model_module_version": "1.5.0",
          "model_name": "ProgressStyleModel",
          "state": {
            "_model_module": "@jupyter-widgets/controls",
            "_model_module_version": "1.5.0",
            "_model_name": "ProgressStyleModel",
            "_view_count": null,
            "_view_module": "@jupyter-widgets/base",
            "_view_module_version": "1.2.0",
            "_view_name": "StyleView",
            "bar_color": null,
            "description_width": ""
          }
        },
        "de7b5010c1b548feaa60f7254c01e190": {
          "model_module": "@jupyter-widgets/base",
          "model_module_version": "1.2.0",
          "model_name": "LayoutModel",
          "state": {
            "_model_module": "@jupyter-widgets/base",
            "_model_module_version": "1.2.0",
            "_model_name": "LayoutModel",
            "_view_count": null,
            "_view_module": "@jupyter-widgets/base",
            "_view_module_version": "1.2.0",
            "_view_name": "LayoutView",
            "align_content": null,
            "align_items": null,
            "align_self": null,
            "border": null,
            "bottom": null,
            "display": null,
            "flex": null,
            "flex_flow": null,
            "grid_area": null,
            "grid_auto_columns": null,
            "grid_auto_flow": null,
            "grid_auto_rows": null,
            "grid_column": null,
            "grid_gap": null,
            "grid_row": null,
            "grid_template_areas": null,
            "grid_template_columns": null,
            "grid_template_rows": null,
            "height": null,
            "justify_content": null,
            "justify_items": null,
            "left": null,
            "margin": null,
            "max_height": null,
            "max_width": null,
            "min_height": null,
            "min_width": null,
            "object_fit": null,
            "object_position": null,
            "order": null,
            "overflow": null,
            "overflow_x": null,
            "overflow_y": null,
            "padding": null,
            "right": null,
            "top": null,
            "visibility": null,
            "width": null
          }
        },
        "f32d90790e3c4cf8bca32cca81f0e179": {
          "model_module": "@jupyter-widgets/controls",
          "model_module_version": "1.5.0",
          "model_name": "HTMLModel",
          "state": {
            "_dom_classes": [],
            "_model_module": "@jupyter-widgets/controls",
            "_model_module_version": "1.5.0",
            "_model_name": "HTMLModel",
            "_view_count": null,
            "_view_module": "@jupyter-widgets/controls",
            "_view_module_version": "1.5.0",
            "_view_name": "HTMLView",
            "description": "",
            "description_tooltip": null,
            "layout": "IPY_MODEL_6f392a5c0abc4c789d29f2338362c822",
            "placeholder": "​",
            "style": "IPY_MODEL_fa65f01962b84a53b5ced9558df58e26",
            "value": " 480/480 [1:17:14&lt;00:00, 16.90s/it]"
          }
        },
        "fa65f01962b84a53b5ced9558df58e26": {
          "model_module": "@jupyter-widgets/controls",
          "model_module_version": "1.5.0",
          "model_name": "DescriptionStyleModel",
          "state": {
            "_model_module": "@jupyter-widgets/controls",
            "_model_module_version": "1.5.0",
            "_model_name": "DescriptionStyleModel",
            "_view_count": null,
            "_view_module": "@jupyter-widgets/base",
            "_view_module_version": "1.2.0",
            "_view_name": "StyleView",
            "description_width": ""
          }
        }
      }
    }
  },
  "nbformat": 4,
  "nbformat_minor": 0
}
