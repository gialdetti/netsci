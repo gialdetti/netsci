{
  "nbformat": 4,
  "nbformat_minor": 0,
  "metadata": {
    "colab": {
      "name": "gpu_speedup.ipynb",
      "provenance": [],
      "collapsed_sections": []
    },
    "kernelspec": {
      "name": "python3",
      "display_name": "Python 3"
    },
    "language_info": {
      "name": "python"
    },
    "accelerator": "GPU",
    "widgets": {
      "application/vnd.jupyter.widget-state+json": {
        "8921fc85818c42fa9e7be82d5484e5f0": {
          "model_module": "@jupyter-widgets/controls",
          "model_name": "HBoxModel",
          "model_module_version": "1.5.0",
          "state": {
            "_dom_classes": [],
            "_model_module": "@jupyter-widgets/controls",
            "_model_module_version": "1.5.0",
            "_model_name": "HBoxModel",
            "_view_count": null,
            "_view_module": "@jupyter-widgets/controls",
            "_view_module_version": "1.5.0",
            "_view_name": "HBoxView",
            "box_style": "",
            "children": [
              "IPY_MODEL_331464e0573a418ca690e578a66c327e",
              "IPY_MODEL_d64f29a5a346418ca58a89e6d96c03a8",
              "IPY_MODEL_f32d90790e3c4cf8bca32cca81f0e179"
            ],
            "layout": "IPY_MODEL_de7b5010c1b548feaa60f7254c01e190"
          }
        },
        "331464e0573a418ca690e578a66c327e": {
          "model_module": "@jupyter-widgets/controls",
          "model_name": "HTMLModel",
          "model_module_version": "1.5.0",
          "state": {
            "_dom_classes": [],
            "_model_module": "@jupyter-widgets/controls",
            "_model_module_version": "1.5.0",
            "_model_name": "HTMLModel",
            "_view_count": null,
            "_view_module": "@jupyter-widgets/controls",
            "_view_module_version": "1.5.0",
            "_view_name": "HTMLView",
            "description": "",
            "description_tooltip": null,
            "layout": "IPY_MODEL_8c5173ac50ea4d3d8d9464b8e9800a16",
            "placeholder": "​",
            "style": "IPY_MODEL_88be4e861c504e97af63e0bc2ec99dcd",
            "value": "100%"
          }
        },
        "d64f29a5a346418ca58a89e6d96c03a8": {
          "model_module": "@jupyter-widgets/controls",
          "model_name": "FloatProgressModel",
          "model_module_version": "1.5.0",
          "state": {
            "_dom_classes": [],
            "_model_module": "@jupyter-widgets/controls",
            "_model_module_version": "1.5.0",
            "_model_name": "FloatProgressModel",
            "_view_count": null,
            "_view_module": "@jupyter-widgets/controls",
            "_view_module_version": "1.5.0",
            "_view_name": "ProgressView",
            "bar_style": "success",
            "description": "",
            "description_tooltip": null,
            "layout": "IPY_MODEL_16fe4a327f4a48d780f35ce21422c2bf",
            "max": 480,
            "min": 0,
            "orientation": "horizontal",
            "style": "IPY_MODEL_d8abead0e8944ccfa30bed5bef02922c",
            "value": 480
          }
        },
        "f32d90790e3c4cf8bca32cca81f0e179": {
          "model_module": "@jupyter-widgets/controls",
          "model_name": "HTMLModel",
          "model_module_version": "1.5.0",
          "state": {
            "_dom_classes": [],
            "_model_module": "@jupyter-widgets/controls",
            "_model_module_version": "1.5.0",
            "_model_name": "HTMLModel",
            "_view_count": null,
            "_view_module": "@jupyter-widgets/controls",
            "_view_module_version": "1.5.0",
            "_view_name": "HTMLView",
            "description": "",
            "description_tooltip": null,
            "layout": "IPY_MODEL_6f392a5c0abc4c789d29f2338362c822",
            "placeholder": "​",
            "style": "IPY_MODEL_fa65f01962b84a53b5ced9558df58e26",
            "value": " 480/480 [1:17:14&lt;00:00, 16.90s/it]"
          }
        },
        "de7b5010c1b548feaa60f7254c01e190": {
          "model_module": "@jupyter-widgets/base",
          "model_name": "LayoutModel",
          "model_module_version": "1.2.0",
          "state": {
            "_model_module": "@jupyter-widgets/base",
            "_model_module_version": "1.2.0",
            "_model_name": "LayoutModel",
            "_view_count": null,
            "_view_module": "@jupyter-widgets/base",
            "_view_module_version": "1.2.0",
            "_view_name": "LayoutView",
            "align_content": null,
            "align_items": null,
            "align_self": null,
            "border": null,
            "bottom": null,
            "display": null,
            "flex": null,
            "flex_flow": null,
            "grid_area": null,
            "grid_auto_columns": null,
            "grid_auto_flow": null,
            "grid_auto_rows": null,
            "grid_column": null,
            "grid_gap": null,
            "grid_row": null,
            "grid_template_areas": null,
            "grid_template_columns": null,
            "grid_template_rows": null,
            "height": null,
            "justify_content": null,
            "justify_items": null,
            "left": null,
            "margin": null,
            "max_height": null,
            "max_width": null,
            "min_height": null,
            "min_width": null,
            "object_fit": null,
            "object_position": null,
            "order": null,
            "overflow": null,
            "overflow_x": null,
            "overflow_y": null,
            "padding": null,
            "right": null,
            "top": null,
            "visibility": null,
            "width": null
          }
        },
        "8c5173ac50ea4d3d8d9464b8e9800a16": {
          "model_module": "@jupyter-widgets/base",
          "model_name": "LayoutModel",
          "model_module_version": "1.2.0",
          "state": {
            "_model_module": "@jupyter-widgets/base",
            "_model_module_version": "1.2.0",
            "_model_name": "LayoutModel",
            "_view_count": null,
            "_view_module": "@jupyter-widgets/base",
            "_view_module_version": "1.2.0",
            "_view_name": "LayoutView",
            "align_content": null,
            "align_items": null,
            "align_self": null,
            "border": null,
            "bottom": null,
            "display": null,
            "flex": null,
            "flex_flow": null,
            "grid_area": null,
            "grid_auto_columns": null,
            "grid_auto_flow": null,
            "grid_auto_rows": null,
            "grid_column": null,
            "grid_gap": null,
            "grid_row": null,
            "grid_template_areas": null,
            "grid_template_columns": null,
            "grid_template_rows": null,
            "height": null,
            "justify_content": null,
            "justify_items": null,
            "left": null,
            "margin": null,
            "max_height": null,
            "max_width": null,
            "min_height": null,
            "min_width": null,
            "object_fit": null,
            "object_position": null,
            "order": null,
            "overflow": null,
            "overflow_x": null,
            "overflow_y": null,
            "padding": null,
            "right": null,
            "top": null,
            "visibility": null,
            "width": null
          }
        },
        "88be4e861c504e97af63e0bc2ec99dcd": {
          "model_module": "@jupyter-widgets/controls",
          "model_name": "DescriptionStyleModel",
          "model_module_version": "1.5.0",
          "state": {
            "_model_module": "@jupyter-widgets/controls",
            "_model_module_version": "1.5.0",
            "_model_name": "DescriptionStyleModel",
            "_view_count": null,
            "_view_module": "@jupyter-widgets/base",
            "_view_module_version": "1.2.0",
            "_view_name": "StyleView",
            "description_width": ""
          }
        },
        "16fe4a327f4a48d780f35ce21422c2bf": {
          "model_module": "@jupyter-widgets/base",
          "model_name": "LayoutModel",
          "model_module_version": "1.2.0",
          "state": {
            "_model_module": "@jupyter-widgets/base",
            "_model_module_version": "1.2.0",
            "_model_name": "LayoutModel",
            "_view_count": null,
            "_view_module": "@jupyter-widgets/base",
            "_view_module_version": "1.2.0",
            "_view_name": "LayoutView",
            "align_content": null,
            "align_items": null,
            "align_self": null,
            "border": null,
            "bottom": null,
            "display": null,
            "flex": null,
            "flex_flow": null,
            "grid_area": null,
            "grid_auto_columns": null,
            "grid_auto_flow": null,
            "grid_auto_rows": null,
            "grid_column": null,
            "grid_gap": null,
            "grid_row": null,
            "grid_template_areas": null,
            "grid_template_columns": null,
            "grid_template_rows": null,
            "height": null,
            "justify_content": null,
            "justify_items": null,
            "left": null,
            "margin": null,
            "max_height": null,
            "max_width": null,
            "min_height": null,
            "min_width": null,
            "object_fit": null,
            "object_position": null,
            "order": null,
            "overflow": null,
            "overflow_x": null,
            "overflow_y": null,
            "padding": null,
            "right": null,
            "top": null,
            "visibility": null,
            "width": null
          }
        },
        "d8abead0e8944ccfa30bed5bef02922c": {
          "model_module": "@jupyter-widgets/controls",
          "model_name": "ProgressStyleModel",
          "model_module_version": "1.5.0",
          "state": {
            "_model_module": "@jupyter-widgets/controls",
            "_model_module_version": "1.5.0",
            "_model_name": "ProgressStyleModel",
            "_view_count": null,
            "_view_module": "@jupyter-widgets/base",
            "_view_module_version": "1.2.0",
            "_view_name": "StyleView",
            "bar_color": null,
            "description_width": ""
          }
        },
        "6f392a5c0abc4c789d29f2338362c822": {
          "model_module": "@jupyter-widgets/base",
          "model_name": "LayoutModel",
          "model_module_version": "1.2.0",
          "state": {
            "_model_module": "@jupyter-widgets/base",
            "_model_module_version": "1.2.0",
            "_model_name": "LayoutModel",
            "_view_count": null,
            "_view_module": "@jupyter-widgets/base",
            "_view_module_version": "1.2.0",
            "_view_name": "LayoutView",
            "align_content": null,
            "align_items": null,
            "align_self": null,
            "border": null,
            "bottom": null,
            "display": null,
            "flex": null,
            "flex_flow": null,
            "grid_area": null,
            "grid_auto_columns": null,
            "grid_auto_flow": null,
            "grid_auto_rows": null,
            "grid_column": null,
            "grid_gap": null,
            "grid_row": null,
            "grid_template_areas": null,
            "grid_template_columns": null,
            "grid_template_rows": null,
            "height": null,
            "justify_content": null,
            "justify_items": null,
            "left": null,
            "margin": null,
            "max_height": null,
            "max_width": null,
            "min_height": null,
            "min_width": null,
            "object_fit": null,
            "object_position": null,
            "order": null,
            "overflow": null,
            "overflow_x": null,
            "overflow_y": null,
            "padding": null,
            "right": null,
            "top": null,
            "visibility": null,
            "width": null
          }
        },
        "fa65f01962b84a53b5ced9558df58e26": {
          "model_module": "@jupyter-widgets/controls",
          "model_name": "DescriptionStyleModel",
          "model_module_version": "1.5.0",
          "state": {
            "_model_module": "@jupyter-widgets/controls",
            "_model_module_version": "1.5.0",
            "_model_name": "DescriptionStyleModel",
            "_view_count": null,
            "_view_module": "@jupyter-widgets/base",
            "_view_module_version": "1.2.0",
            "_view_name": "StyleView",
            "description_width": ""
          }
        }
      }
    }
  },
  "cells": [
    {
      "cell_type": "markdown",
      "source": [
        "# GPU Speedup of Motif Analysis\n",
        "---\n",
        "\n",
        "Here, we measure [`netsci`](https://github.com/gialdetti/netsci) speedup resulting from the GPU-based algorithm. Specificaly, we compare the running times between CPU and GPU over several networks sizes ($n$) and sparsities ($p$)."
      ],
      "metadata": {
        "id": "FhsonLSSm7_0"
      }
    },
    {
      "cell_type": "code",
      "source": [
        "# Install packages (e.g., for Google Colab)\n",
        "\n",
        "# !pip install netsci                                               # Install latest release version\n",
        "!pip install git+https://github.com/gialdetti/netsci.git          # Install latest development version"
      ],
      "metadata": {
        "colab": {
          "base_uri": "https://localhost:8080/"
        },
        "id": "UqrVLaObTGKR",
        "outputId": "da2bcbf2-2c89-467f-9c66-9963a4f486ce"
      },
      "execution_count": 1,
      "outputs": [
        {
          "output_type": "stream",
          "name": "stdout",
          "text": [
            "Collecting git+https://github.com/gialdetti/netsci.git\n",
            "  Cloning https://github.com/gialdetti/netsci.git to /tmp/pip-req-build-xgbt149w\n",
            "  Running command git clone -q https://github.com/gialdetti/netsci.git /tmp/pip-req-build-xgbt149w\n",
            "Requirement already satisfied: numpy>=1.16.2 in /usr/local/lib/python3.7/dist-packages (from netsci==0.0.3) (1.21.6)\n",
            "Requirement already satisfied: pandas>=0.24.2 in /usr/local/lib/python3.7/dist-packages (from netsci==0.0.3) (1.3.5)\n",
            "Requirement already satisfied: networkx>=2.2 in /usr/local/lib/python3.7/dist-packages (from netsci==0.0.3) (2.6.3)\n",
            "Requirement already satisfied: scikit-learn in /usr/local/lib/python3.7/dist-packages (from netsci==0.0.3) (1.0.2)\n",
            "Requirement already satisfied: pytz>=2017.3 in /usr/local/lib/python3.7/dist-packages (from pandas>=0.24.2->netsci==0.0.3) (2022.1)\n",
            "Requirement already satisfied: python-dateutil>=2.7.3 in /usr/local/lib/python3.7/dist-packages (from pandas>=0.24.2->netsci==0.0.3) (2.8.2)\n",
            "Requirement already satisfied: six>=1.5 in /usr/local/lib/python3.7/dist-packages (from python-dateutil>=2.7.3->pandas>=0.24.2->netsci==0.0.3) (1.15.0)\n",
            "Requirement already satisfied: scipy>=1.1.0 in /usr/local/lib/python3.7/dist-packages (from scikit-learn->netsci==0.0.3) (1.4.1)\n",
            "Requirement already satisfied: threadpoolctl>=2.0.0 in /usr/local/lib/python3.7/dist-packages (from scikit-learn->netsci==0.0.3) (3.1.0)\n",
            "Requirement already satisfied: joblib>=0.11 in /usr/local/lib/python3.7/dist-packages (from scikit-learn->netsci==0.0.3) (1.1.0)\n",
            "Building wheels for collected packages: netsci\n",
            "  Building wheel for netsci (setup.py) ... \u001b[?25l\u001b[?25hdone\n",
            "  Created wheel for netsci: filename=netsci-0.0.3-py3-none-any.whl size=460540 sha256=7002d6bb3074557dc290773df8c436d1c6ac63a7f4511ba8118978223e5e9d86\n",
            "  Stored in directory: /tmp/pip-ephem-wheel-cache-wwla52tb/wheels/e8/f7/aa/ef251b96049da2fae561fad4879ba2ff8a155fdec6f17eb136\n",
            "Successfully built netsci\n",
            "Installing collected packages: netsci\n",
            "Successfully installed netsci-0.0.3\n"
          ]
        }
      ]
    },
    {
      "cell_type": "code",
      "source": [
        "import logging; logging.basicConfig()\n",
        "import itertools\n",
        "\n",
        "import numpy as np\n",
        "import pandas as pd\n",
        "from tqdm.auto import tqdm\n",
        "\n",
        "import tensorflow as tf\n",
        "\n",
        "from netsci.models.random import erdos_renyi\n",
        "import netsci.metrics.motifs as nsm\n",
        "\n",
        "\n",
        "tqdm.pandas()\n",
        "print(\"Num GPUs Available: \", len(tf.config.list_physical_devices('GPU')))"
      ],
      "metadata": {
        "colab": {
          "base_uri": "https://localhost:8080/"
        },
        "id": "OTr6gItATEgb",
        "outputId": "fe6228ad-ce78-4663-8b26-c557bf7b5265"
      },
      "execution_count": 2,
      "outputs": [
        {
          "output_type": "stream",
          "name": "stdout",
          "text": [
            "Num GPUs Available:  1\n"
          ]
        }
      ]
    },
    {
      "cell_type": "code",
      "source": [
        "import time\n",
        "\n",
        "class Timer:\n",
        "    def __init__(self, logger=None, desc='Execution'):\n",
        "        self.logger = logger\n",
        "        self.desc = desc\n",
        "\n",
        "    def __enter__(self):\n",
        "        self.start = time.time_ns()\n",
        "        return self\n",
        "\n",
        "    def __exit__(self, *args):\n",
        "        self.end = time.time_ns()\n",
        "        self.interval = (self.end - self.start)\n",
        "        self.interval_ms = self.interval // 1_000_000\n",
        "\n",
        "        if self.logger is not None:\n",
        "            self.logger(f'{self.desc} took {self.interval_ms/1000:.03f} sec.')"
      ],
      "metadata": {
        "id": "a6ksBQx7ABoa"
      },
      "execution_count": 3,
      "outputs": []
    },
    {
      "cell_type": "markdown",
      "source": [
        "## Sanity checks"
      ],
      "metadata": {
        "id": "NP3jkpaU_wGM"
      }
    },
    {
      "cell_type": "code",
      "source": [
        "# from netsci.metrics.motifs_gpu import _motifs_gpu\n",
        "# help(_motifs_gpu)"
      ],
      "metadata": {
        "id": "ihMjPhAtnk1I"
      },
      "execution_count": 4,
      "outputs": []
    },
    {
      "cell_type": "code",
      "source": [
        "# A = erdos_renyi(n=1000, p=0.01, random_state=71070)\n",
        "\n",
        "# logging.getLogger('netsci.metrics.motifs_gpu').setLevel(logging.DEBUG)\n",
        "# with tf.device('/CPU:0'):\n",
        "#     print(_motifs_gpu(A))\n",
        "\n",
        "# with tf.device('/GPU:0'):\n",
        "#     print(_motifs_gpu(A))"
      ],
      "metadata": {
        "id": "JFmCcG-EUJOC"
      },
      "execution_count": 5,
      "outputs": []
    },
    {
      "cell_type": "markdown",
      "source": [
        "GPU usage"
      ],
      "metadata": {
        "id": "aolFIpLk_6eE"
      }
    },
    {
      "cell_type": "code",
      "source": [
        "A = erdos_renyi(n=1000, p=0.01, random_state=71070)\n",
        "\n",
        "logging.getLogger('netsci.metrics.motifs_gpu').setLevel(logging.DEBUG)\n",
        "with tf.device('/CPU:0'):\n",
        "    print(nsm.motifs(A, algorithm='gpu'))\n",
        "\n",
        "with tf.device('/GPU:0'):\n",
        "    print(nsm.motifs(A, algorithm='gpu'))"
      ],
      "metadata": {
        "colab": {
          "base_uri": "https://localhost:8080/"
        },
        "id": "_vFbZsIAoXtT",
        "outputId": "663ed321-cd74-47ba-fdb7-61e416380c4c"
      },
      "execution_count": 6,
      "outputs": [
        {
          "output_type": "stream",
          "name": "stderr",
          "text": [
            "DEBUG:netsci.metrics.motifs_gpu:devices: ['device:CPU:0', 'device:CPU:0', 'device:CPU:0', 'device:CPU:0']\n",
            "DEBUG:netsci.metrics.motifs_gpu:devices: ['device:CPU:0', 'device:CPU:0', 'device:CPU:0', 'device:CPU:0', 'device:CPU:0', 'device:CPU:0', 'device:CPU:0', 'device:CPU:0', 'device:CPU:0', 'device:CPU:0', 'device:CPU:0', 'device:CPU:0', 'device:CPU:0', 'device:CPU:0', 'device:CPU:0', 'device:CPU:0']\n"
          ]
        },
        {
          "output_type": "stream",
          "name": "stdout",
          "text": [
            "[156453141   9481653     37283     95997     47667     48287      1001\n",
            "       843       769       334         2         9         5         9\n",
            "         0         0]\n"
          ]
        },
        {
          "output_type": "stream",
          "name": "stderr",
          "text": [
            "DEBUG:netsci.metrics.motifs_gpu:devices: ['device:GPU:0', 'device:GPU:0', 'device:GPU:0', 'device:GPU:0']\n",
            "DEBUG:netsci.metrics.motifs_gpu:devices: ['device:GPU:0', 'device:GPU:0', 'device:GPU:0', 'device:GPU:0', 'device:GPU:0', 'device:GPU:0', 'device:GPU:0', 'device:GPU:0', 'device:GPU:0', 'device:GPU:0', 'device:GPU:0', 'device:GPU:0', 'device:GPU:0', 'device:GPU:0', 'device:GPU:0', 'device:GPU:0']\n"
          ]
        },
        {
          "output_type": "stream",
          "name": "stdout",
          "text": [
            "[156453141   9481653     37283     95997     47667     48287      1001\n",
            "       843       769       334         2         9         5         9\n",
            "         0         0]\n"
          ]
        }
      ]
    },
    {
      "cell_type": "markdown",
      "source": [
        "GPU timing"
      ],
      "metadata": {
        "id": "eQ6fmeCXAFJr"
      }
    },
    {
      "cell_type": "code",
      "source": [
        "with Timer(logger=print, desc='GPU') as t:\n",
        "  with tf.device('/GPU:0'):\n",
        "    print(nsm.motifs(A, algorithm='gpu'))\n",
        "print(t.interval_ms)\n",
        "\n",
        "with Timer(logger=print, desc='CPU'):\n",
        "  with tf.device('/CPU:0'):\n",
        "    print(nsm.motifs(A, algorithm='gpu'))\n"
      ],
      "metadata": {
        "colab": {
          "base_uri": "https://localhost:8080/"
        },
        "id": "Ie83bU4oVS0S",
        "outputId": "6e4a6844-d3ff-4045-f4b5-ab892dadb46a"
      },
      "execution_count": 7,
      "outputs": [
        {
          "output_type": "stream",
          "name": "stderr",
          "text": [
            "DEBUG:netsci.metrics.motifs_gpu:devices: ['device:GPU:0', 'device:GPU:0', 'device:GPU:0', 'device:GPU:0']\n",
            "DEBUG:netsci.metrics.motifs_gpu:devices: ['device:GPU:0', 'device:GPU:0', 'device:GPU:0', 'device:GPU:0', 'device:GPU:0', 'device:GPU:0', 'device:GPU:0', 'device:GPU:0', 'device:GPU:0', 'device:GPU:0', 'device:GPU:0', 'device:GPU:0', 'device:GPU:0', 'device:GPU:0', 'device:GPU:0', 'device:GPU:0']\n"
          ]
        },
        {
          "output_type": "stream",
          "name": "stdout",
          "text": [
            "[156453141   9481653     37283     95997     47667     48287      1001\n",
            "       843       769       334         2         9         5         9\n",
            "         0         0]\n",
            "GPU took 0.114 sec.\n",
            "114\n"
          ]
        },
        {
          "output_type": "stream",
          "name": "stderr",
          "text": [
            "DEBUG:netsci.metrics.motifs_gpu:devices: ['device:CPU:0', 'device:CPU:0', 'device:CPU:0', 'device:CPU:0']\n",
            "DEBUG:netsci.metrics.motifs_gpu:devices: ['device:CPU:0', 'device:CPU:0', 'device:CPU:0', 'device:CPU:0', 'device:CPU:0', 'device:CPU:0', 'device:CPU:0', 'device:CPU:0', 'device:CPU:0', 'device:CPU:0', 'device:CPU:0', 'device:CPU:0', 'device:CPU:0', 'device:CPU:0', 'device:CPU:0', 'device:CPU:0']\n"
          ]
        },
        {
          "output_type": "stream",
          "name": "stdout",
          "text": [
            "[156453141   9481653     37283     95997     47667     48287      1001\n",
            "       843       769       334         2         9         5         9\n",
            "         0         0]\n",
            "CPU took 4.208 sec.\n"
          ]
        }
      ]
    },
    {
      "cell_type": "markdown",
      "source": [
        "## Experiments"
      ],
      "metadata": {
        "id": "0jDsspXgAY-4"
      }
    },
    {
      "cell_type": "markdown",
      "source": [
        "Experiment configurations"
      ],
      "metadata": {
        "id": "-QpWw9G3Aon8"
      }
    },
    {
      "cell_type": "code",
      "source": [
        "ns = np.arange(0, 3500, 500)[1:]\n",
        "ps = np.linspace(0, 0.4, 8+1)[1:]\n",
        "print(ns, ps)\n",
        "devices = ('/GPU:0', '/CPU:0')\n",
        "n_repetitions = 5\n",
        "  \n",
        "# ns, ps = ns[:2], ps[:3]\n",
        "\n",
        "experiments = pd.DataFrame(itertools.product(ns, ps, devices, np.arange(n_repetitions)), \n",
        "                           columns=['n', 'p', 'device', 'repetition']) \\\n",
        "  .assign(random_state=71070)\n",
        "\n",
        "# display(experiments.agg(['nunique']))\n",
        "experiments"
      ],
      "metadata": {
        "colab": {
          "base_uri": "https://localhost:8080/",
          "height": 441
        },
        "id": "WVoymGLyWwjE",
        "outputId": "17658da0-1168-48a2-eba9-8f0cf394bdc6"
      },
      "execution_count": 8,
      "outputs": [
        {
          "output_type": "stream",
          "name": "stdout",
          "text": [
            "[ 500 1000 1500 2000 2500 3000] [0.05 0.1  0.15 0.2  0.25 0.3  0.35 0.4 ]\n"
          ]
        },
        {
          "output_type": "execute_result",
          "data": {
            "text/plain": [
              "        n     p  device  repetition  random_state\n",
              "0     500  0.05  /GPU:0           0         71070\n",
              "1     500  0.05  /GPU:0           1         71070\n",
              "2     500  0.05  /GPU:0           2         71070\n",
              "3     500  0.05  /GPU:0           3         71070\n",
              "4     500  0.05  /GPU:0           4         71070\n",
              "..    ...   ...     ...         ...           ...\n",
              "475  3000  0.40  /CPU:0           0         71070\n",
              "476  3000  0.40  /CPU:0           1         71070\n",
              "477  3000  0.40  /CPU:0           2         71070\n",
              "478  3000  0.40  /CPU:0           3         71070\n",
              "479  3000  0.40  /CPU:0           4         71070\n",
              "\n",
              "[480 rows x 5 columns]"
            ],
            "text/html": [
              "\n",
              "  <div id=\"df-debb235a-f7b6-4123-bcea-2548fc587eba\">\n",
              "    <div class=\"colab-df-container\">\n",
              "      <div>\n",
              "<style scoped>\n",
              "    .dataframe tbody tr th:only-of-type {\n",
              "        vertical-align: middle;\n",
              "    }\n",
              "\n",
              "    .dataframe tbody tr th {\n",
              "        vertical-align: top;\n",
              "    }\n",
              "\n",
              "    .dataframe thead th {\n",
              "        text-align: right;\n",
              "    }\n",
              "</style>\n",
              "<table border=\"1\" class=\"dataframe\">\n",
              "  <thead>\n",
              "    <tr style=\"text-align: right;\">\n",
              "      <th></th>\n",
              "      <th>n</th>\n",
              "      <th>p</th>\n",
              "      <th>device</th>\n",
              "      <th>repetition</th>\n",
              "      <th>random_state</th>\n",
              "    </tr>\n",
              "  </thead>\n",
              "  <tbody>\n",
              "    <tr>\n",
              "      <th>0</th>\n",
              "      <td>500</td>\n",
              "      <td>0.05</td>\n",
              "      <td>/GPU:0</td>\n",
              "      <td>0</td>\n",
              "      <td>71070</td>\n",
              "    </tr>\n",
              "    <tr>\n",
              "      <th>1</th>\n",
              "      <td>500</td>\n",
              "      <td>0.05</td>\n",
              "      <td>/GPU:0</td>\n",
              "      <td>1</td>\n",
              "      <td>71070</td>\n",
              "    </tr>\n",
              "    <tr>\n",
              "      <th>2</th>\n",
              "      <td>500</td>\n",
              "      <td>0.05</td>\n",
              "      <td>/GPU:0</td>\n",
              "      <td>2</td>\n",
              "      <td>71070</td>\n",
              "    </tr>\n",
              "    <tr>\n",
              "      <th>3</th>\n",
              "      <td>500</td>\n",
              "      <td>0.05</td>\n",
              "      <td>/GPU:0</td>\n",
              "      <td>3</td>\n",
              "      <td>71070</td>\n",
              "    </tr>\n",
              "    <tr>\n",
              "      <th>4</th>\n",
              "      <td>500</td>\n",
              "      <td>0.05</td>\n",
              "      <td>/GPU:0</td>\n",
              "      <td>4</td>\n",
              "      <td>71070</td>\n",
              "    </tr>\n",
              "    <tr>\n",
              "      <th>...</th>\n",
              "      <td>...</td>\n",
              "      <td>...</td>\n",
              "      <td>...</td>\n",
              "      <td>...</td>\n",
              "      <td>...</td>\n",
              "    </tr>\n",
              "    <tr>\n",
              "      <th>475</th>\n",
              "      <td>3000</td>\n",
              "      <td>0.40</td>\n",
              "      <td>/CPU:0</td>\n",
              "      <td>0</td>\n",
              "      <td>71070</td>\n",
              "    </tr>\n",
              "    <tr>\n",
              "      <th>476</th>\n",
              "      <td>3000</td>\n",
              "      <td>0.40</td>\n",
              "      <td>/CPU:0</td>\n",
              "      <td>1</td>\n",
              "      <td>71070</td>\n",
              "    </tr>\n",
              "    <tr>\n",
              "      <th>477</th>\n",
              "      <td>3000</td>\n",
              "      <td>0.40</td>\n",
              "      <td>/CPU:0</td>\n",
              "      <td>2</td>\n",
              "      <td>71070</td>\n",
              "    </tr>\n",
              "    <tr>\n",
              "      <th>478</th>\n",
              "      <td>3000</td>\n",
              "      <td>0.40</td>\n",
              "      <td>/CPU:0</td>\n",
              "      <td>3</td>\n",
              "      <td>71070</td>\n",
              "    </tr>\n",
              "    <tr>\n",
              "      <th>479</th>\n",
              "      <td>3000</td>\n",
              "      <td>0.40</td>\n",
              "      <td>/CPU:0</td>\n",
              "      <td>4</td>\n",
              "      <td>71070</td>\n",
              "    </tr>\n",
              "  </tbody>\n",
              "</table>\n",
              "<p>480 rows × 5 columns</p>\n",
              "</div>\n",
              "      <button class=\"colab-df-convert\" onclick=\"convertToInteractive('df-debb235a-f7b6-4123-bcea-2548fc587eba')\"\n",
              "              title=\"Convert this dataframe to an interactive table.\"\n",
              "              style=\"display:none;\">\n",
              "        \n",
              "  <svg xmlns=\"http://www.w3.org/2000/svg\" height=\"24px\"viewBox=\"0 0 24 24\"\n",
              "       width=\"24px\">\n",
              "    <path d=\"M0 0h24v24H0V0z\" fill=\"none\"/>\n",
              "    <path d=\"M18.56 5.44l.94 2.06.94-2.06 2.06-.94-2.06-.94-.94-2.06-.94 2.06-2.06.94zm-11 1L8.5 8.5l.94-2.06 2.06-.94-2.06-.94L8.5 2.5l-.94 2.06-2.06.94zm10 10l.94 2.06.94-2.06 2.06-.94-2.06-.94-.94-2.06-.94 2.06-2.06.94z\"/><path d=\"M17.41 7.96l-1.37-1.37c-.4-.4-.92-.59-1.43-.59-.52 0-1.04.2-1.43.59L10.3 9.45l-7.72 7.72c-.78.78-.78 2.05 0 2.83L4 21.41c.39.39.9.59 1.41.59.51 0 1.02-.2 1.41-.59l7.78-7.78 2.81-2.81c.8-.78.8-2.07 0-2.86zM5.41 20L4 18.59l7.72-7.72 1.47 1.35L5.41 20z\"/>\n",
              "  </svg>\n",
              "      </button>\n",
              "      \n",
              "  <style>\n",
              "    .colab-df-container {\n",
              "      display:flex;\n",
              "      flex-wrap:wrap;\n",
              "      gap: 12px;\n",
              "    }\n",
              "\n",
              "    .colab-df-convert {\n",
              "      background-color: #E8F0FE;\n",
              "      border: none;\n",
              "      border-radius: 50%;\n",
              "      cursor: pointer;\n",
              "      display: none;\n",
              "      fill: #1967D2;\n",
              "      height: 32px;\n",
              "      padding: 0 0 0 0;\n",
              "      width: 32px;\n",
              "    }\n",
              "\n",
              "    .colab-df-convert:hover {\n",
              "      background-color: #E2EBFA;\n",
              "      box-shadow: 0px 1px 2px rgba(60, 64, 67, 0.3), 0px 1px 3px 1px rgba(60, 64, 67, 0.15);\n",
              "      fill: #174EA6;\n",
              "    }\n",
              "\n",
              "    [theme=dark] .colab-df-convert {\n",
              "      background-color: #3B4455;\n",
              "      fill: #D2E3FC;\n",
              "    }\n",
              "\n",
              "    [theme=dark] .colab-df-convert:hover {\n",
              "      background-color: #434B5C;\n",
              "      box-shadow: 0px 1px 3px 1px rgba(0, 0, 0, 0.15);\n",
              "      filter: drop-shadow(0px 1px 2px rgba(0, 0, 0, 0.3));\n",
              "      fill: #FFFFFF;\n",
              "    }\n",
              "  </style>\n",
              "\n",
              "      <script>\n",
              "        const buttonEl =\n",
              "          document.querySelector('#df-debb235a-f7b6-4123-bcea-2548fc587eba button.colab-df-convert');\n",
              "        buttonEl.style.display =\n",
              "          google.colab.kernel.accessAllowed ? 'block' : 'none';\n",
              "\n",
              "        async function convertToInteractive(key) {\n",
              "          const element = document.querySelector('#df-debb235a-f7b6-4123-bcea-2548fc587eba');\n",
              "          const dataTable =\n",
              "            await google.colab.kernel.invokeFunction('convertToInteractive',\n",
              "                                                     [key], {});\n",
              "          if (!dataTable) return;\n",
              "\n",
              "          const docLinkHtml = 'Like what you see? Visit the ' +\n",
              "            '<a target=\"_blank\" href=https://colab.research.google.com/notebooks/data_table.ipynb>data table notebook</a>'\n",
              "            + ' to learn more about interactive tables.';\n",
              "          element.innerHTML = '';\n",
              "          dataTable['output_type'] = 'display_data';\n",
              "          await google.colab.output.renderOutput(dataTable, element);\n",
              "          const docLink = document.createElement('div');\n",
              "          docLink.innerHTML = docLinkHtml;\n",
              "          element.appendChild(docLink);\n",
              "        }\n",
              "      </script>\n",
              "    </div>\n",
              "  </div>\n",
              "  "
            ]
          },
          "metadata": {},
          "execution_count": 8
        }
      ]
    },
    {
      "cell_type": "markdown",
      "source": [
        "Run experiments"
      ],
      "metadata": {
        "id": "25v1gSJIAwHq"
      }
    },
    {
      "cell_type": "code",
      "source": [
        "logging.getLogger('netsci.metrics.motifs_gpu').setLevel(logging.INFO)\n",
        "\n",
        "\n",
        "def measure(A, device):\n",
        "  timestamp = pd.Timestamp.now()\n",
        "\n",
        "  with Timer() as t:\n",
        "    with tf.device(device):\n",
        "      f = nsm.motifs(A, algorithm='gpu')\n",
        "  return {\n",
        "      'timestamp': timestamp,\n",
        "      'computation_time': t.interval_ms / 1000,\n",
        "      'motifs': f,\n",
        "  }\n",
        "\n",
        "\n",
        "times = experiments.join(\n",
        "    experiments.sample(frac=1) \\\n",
        "    .progress_apply(lambda r: measure(erdos_renyi(r.n, r.p, random_state=r.random_state), r.device), axis=1) \\\n",
        "    .apply(pd.Series)\n",
        ")\n",
        "times"
      ],
      "metadata": {
        "colab": {
          "base_uri": "https://localhost:8080/",
          "height": 455,
          "referenced_widgets": [
            "8921fc85818c42fa9e7be82d5484e5f0",
            "331464e0573a418ca690e578a66c327e",
            "d64f29a5a346418ca58a89e6d96c03a8",
            "f32d90790e3c4cf8bca32cca81f0e179",
            "de7b5010c1b548feaa60f7254c01e190",
            "8c5173ac50ea4d3d8d9464b8e9800a16",
            "88be4e861c504e97af63e0bc2ec99dcd",
            "16fe4a327f4a48d780f35ce21422c2bf",
            "d8abead0e8944ccfa30bed5bef02922c",
            "6f392a5c0abc4c789d29f2338362c822",
            "fa65f01962b84a53b5ced9558df58e26"
          ]
        },
        "id": "dEendJi4aQYD",
        "outputId": "de277ffd-c813-4efc-ef7a-8e65aabffa96"
      },
      "execution_count": 9,
      "outputs": [
        {
          "data": {
            "application/vnd.jupyter.widget-view+json": {
              "model_id": "8921fc85818c42fa9e7be82d5484e5f0",
              "version_major": 2,
              "version_minor": 0
            },
            "text/plain": [
              "  0%|          | 0/480 [00:00<?, ?it/s]"
            ]
          },
          "metadata": {},
          "output_type": "display_data"
        },
        {
          "output_type": "execute_result",
          "data": {
            "text/plain": [
              "        n     p  device  repetition  random_state                  timestamp  \\\n",
              "0     500  0.05  /GPU:0           0         71070 2022-05-08 11:42:10.267669   \n",
              "1     500  0.05  /GPU:0           1         71070 2022-05-08 11:32:59.875896   \n",
              "2     500  0.05  /GPU:0           2         71070 2022-05-08 11:59:30.123556   \n",
              "3     500  0.05  /GPU:0           3         71070 2022-05-08 12:25:01.405071   \n",
              "4     500  0.05  /GPU:0           4         71070 2022-05-08 11:34:39.841276   \n",
              "..    ...   ...     ...         ...           ...                        ...   \n",
              "475  3000  0.40  /CPU:0           0         71070 2022-05-08 12:24:00.658562   \n",
              "476  3000  0.40  /CPU:0           1         71070 2022-05-08 12:22:02.606509   \n",
              "477  3000  0.40  /CPU:0           2         71070 2022-05-08 11:22:18.602979   \n",
              "478  3000  0.40  /CPU:0           3         71070 2022-05-08 11:46:47.506776   \n",
              "479  3000  0.40  /CPU:0           4         71070 2022-05-08 12:16:01.851377   \n",
              "\n",
              "     computation_time                                             motifs  \n",
              "0               0.016  [15207804, 4818168, 126809, 254497, 127365, 12...  \n",
              "1               0.014  [15207804, 4818168, 126809, 254497, 127365, 12...  \n",
              "2               0.021  [15207804, 4818168, 126809, 254497, 127365, 12...  \n",
              "3               0.023  [15207804, 4818168, 126809, 254497, 127365, 12...  \n",
              "4               0.022  [15207804, 4818168, 126809, 254497, 127365, 12...  \n",
              "..                ...                                                ...  \n",
              "475            53.844  [209616783, 838990685, 279309289, 559731871, 2...  \n",
              "476            53.644  [209616783, 838990685, 279309289, 559731871, 2...  \n",
              "477            55.270  [209616783, 838990685, 279309289, 559731871, 2...  \n",
              "478            53.707  [209616783, 838990685, 279309289, 559731871, 2...  \n",
              "479            53.905  [209616783, 838990685, 279309289, 559731871, 2...  \n",
              "\n",
              "[480 rows x 8 columns]"
            ],
            "text/html": [
              "\n",
              "  <div id=\"df-42723616-9ce2-4937-9e2d-0041c445ff41\">\n",
              "    <div class=\"colab-df-container\">\n",
              "      <div>\n",
              "<style scoped>\n",
              "    .dataframe tbody tr th:only-of-type {\n",
              "        vertical-align: middle;\n",
              "    }\n",
              "\n",
              "    .dataframe tbody tr th {\n",
              "        vertical-align: top;\n",
              "    }\n",
              "\n",
              "    .dataframe thead th {\n",
              "        text-align: right;\n",
              "    }\n",
              "</style>\n",
              "<table border=\"1\" class=\"dataframe\">\n",
              "  <thead>\n",
              "    <tr style=\"text-align: right;\">\n",
              "      <th></th>\n",
              "      <th>n</th>\n",
              "      <th>p</th>\n",
              "      <th>device</th>\n",
              "      <th>repetition</th>\n",
              "      <th>random_state</th>\n",
              "      <th>timestamp</th>\n",
              "      <th>computation_time</th>\n",
              "      <th>motifs</th>\n",
              "    </tr>\n",
              "  </thead>\n",
              "  <tbody>\n",
              "    <tr>\n",
              "      <th>0</th>\n",
              "      <td>500</td>\n",
              "      <td>0.05</td>\n",
              "      <td>/GPU:0</td>\n",
              "      <td>0</td>\n",
              "      <td>71070</td>\n",
              "      <td>2022-05-08 11:42:10.267669</td>\n",
              "      <td>0.016</td>\n",
              "      <td>[15207804, 4818168, 126809, 254497, 127365, 12...</td>\n",
              "    </tr>\n",
              "    <tr>\n",
              "      <th>1</th>\n",
              "      <td>500</td>\n",
              "      <td>0.05</td>\n",
              "      <td>/GPU:0</td>\n",
              "      <td>1</td>\n",
              "      <td>71070</td>\n",
              "      <td>2022-05-08 11:32:59.875896</td>\n",
              "      <td>0.014</td>\n",
              "      <td>[15207804, 4818168, 126809, 254497, 127365, 12...</td>\n",
              "    </tr>\n",
              "    <tr>\n",
              "      <th>2</th>\n",
              "      <td>500</td>\n",
              "      <td>0.05</td>\n",
              "      <td>/GPU:0</td>\n",
              "      <td>2</td>\n",
              "      <td>71070</td>\n",
              "      <td>2022-05-08 11:59:30.123556</td>\n",
              "      <td>0.021</td>\n",
              "      <td>[15207804, 4818168, 126809, 254497, 127365, 12...</td>\n",
              "    </tr>\n",
              "    <tr>\n",
              "      <th>3</th>\n",
              "      <td>500</td>\n",
              "      <td>0.05</td>\n",
              "      <td>/GPU:0</td>\n",
              "      <td>3</td>\n",
              "      <td>71070</td>\n",
              "      <td>2022-05-08 12:25:01.405071</td>\n",
              "      <td>0.023</td>\n",
              "      <td>[15207804, 4818168, 126809, 254497, 127365, 12...</td>\n",
              "    </tr>\n",
              "    <tr>\n",
              "      <th>4</th>\n",
              "      <td>500</td>\n",
              "      <td>0.05</td>\n",
              "      <td>/GPU:0</td>\n",
              "      <td>4</td>\n",
              "      <td>71070</td>\n",
              "      <td>2022-05-08 11:34:39.841276</td>\n",
              "      <td>0.022</td>\n",
              "      <td>[15207804, 4818168, 126809, 254497, 127365, 12...</td>\n",
              "    </tr>\n",
              "    <tr>\n",
              "      <th>...</th>\n",
              "      <td>...</td>\n",
              "      <td>...</td>\n",
              "      <td>...</td>\n",
              "      <td>...</td>\n",
              "      <td>...</td>\n",
              "      <td>...</td>\n",
              "      <td>...</td>\n",
              "      <td>...</td>\n",
              "    </tr>\n",
              "    <tr>\n",
              "      <th>475</th>\n",
              "      <td>3000</td>\n",
              "      <td>0.40</td>\n",
              "      <td>/CPU:0</td>\n",
              "      <td>0</td>\n",
              "      <td>71070</td>\n",
              "      <td>2022-05-08 12:24:00.658562</td>\n",
              "      <td>53.844</td>\n",
              "      <td>[209616783, 838990685, 279309289, 559731871, 2...</td>\n",
              "    </tr>\n",
              "    <tr>\n",
              "      <th>476</th>\n",
              "      <td>3000</td>\n",
              "      <td>0.40</td>\n",
              "      <td>/CPU:0</td>\n",
              "      <td>1</td>\n",
              "      <td>71070</td>\n",
              "      <td>2022-05-08 12:22:02.606509</td>\n",
              "      <td>53.644</td>\n",
              "      <td>[209616783, 838990685, 279309289, 559731871, 2...</td>\n",
              "    </tr>\n",
              "    <tr>\n",
              "      <th>477</th>\n",
              "      <td>3000</td>\n",
              "      <td>0.40</td>\n",
              "      <td>/CPU:0</td>\n",
              "      <td>2</td>\n",
              "      <td>71070</td>\n",
              "      <td>2022-05-08 11:22:18.602979</td>\n",
              "      <td>55.270</td>\n",
              "      <td>[209616783, 838990685, 279309289, 559731871, 2...</td>\n",
              "    </tr>\n",
              "    <tr>\n",
              "      <th>478</th>\n",
              "      <td>3000</td>\n",
              "      <td>0.40</td>\n",
              "      <td>/CPU:0</td>\n",
              "      <td>3</td>\n",
              "      <td>71070</td>\n",
              "      <td>2022-05-08 11:46:47.506776</td>\n",
              "      <td>53.707</td>\n",
              "      <td>[209616783, 838990685, 279309289, 559731871, 2...</td>\n",
              "    </tr>\n",
              "    <tr>\n",
              "      <th>479</th>\n",
              "      <td>3000</td>\n",
              "      <td>0.40</td>\n",
              "      <td>/CPU:0</td>\n",
              "      <td>4</td>\n",
              "      <td>71070</td>\n",
              "      <td>2022-05-08 12:16:01.851377</td>\n",
              "      <td>53.905</td>\n",
              "      <td>[209616783, 838990685, 279309289, 559731871, 2...</td>\n",
              "    </tr>\n",
              "  </tbody>\n",
              "</table>\n",
              "<p>480 rows × 8 columns</p>\n",
              "</div>\n",
              "      <button class=\"colab-df-convert\" onclick=\"convertToInteractive('df-42723616-9ce2-4937-9e2d-0041c445ff41')\"\n",
              "              title=\"Convert this dataframe to an interactive table.\"\n",
              "              style=\"display:none;\">\n",
              "        \n",
              "  <svg xmlns=\"http://www.w3.org/2000/svg\" height=\"24px\"viewBox=\"0 0 24 24\"\n",
              "       width=\"24px\">\n",
              "    <path d=\"M0 0h24v24H0V0z\" fill=\"none\"/>\n",
              "    <path d=\"M18.56 5.44l.94 2.06.94-2.06 2.06-.94-2.06-.94-.94-2.06-.94 2.06-2.06.94zm-11 1L8.5 8.5l.94-2.06 2.06-.94-2.06-.94L8.5 2.5l-.94 2.06-2.06.94zm10 10l.94 2.06.94-2.06 2.06-.94-2.06-.94-.94-2.06-.94 2.06-2.06.94z\"/><path d=\"M17.41 7.96l-1.37-1.37c-.4-.4-.92-.59-1.43-.59-.52 0-1.04.2-1.43.59L10.3 9.45l-7.72 7.72c-.78.78-.78 2.05 0 2.83L4 21.41c.39.39.9.59 1.41.59.51 0 1.02-.2 1.41-.59l7.78-7.78 2.81-2.81c.8-.78.8-2.07 0-2.86zM5.41 20L4 18.59l7.72-7.72 1.47 1.35L5.41 20z\"/>\n",
              "  </svg>\n",
              "      </button>\n",
              "      \n",
              "  <style>\n",
              "    .colab-df-container {\n",
              "      display:flex;\n",
              "      flex-wrap:wrap;\n",
              "      gap: 12px;\n",
              "    }\n",
              "\n",
              "    .colab-df-convert {\n",
              "      background-color: #E8F0FE;\n",
              "      border: none;\n",
              "      border-radius: 50%;\n",
              "      cursor: pointer;\n",
              "      display: none;\n",
              "      fill: #1967D2;\n",
              "      height: 32px;\n",
              "      padding: 0 0 0 0;\n",
              "      width: 32px;\n",
              "    }\n",
              "\n",
              "    .colab-df-convert:hover {\n",
              "      background-color: #E2EBFA;\n",
              "      box-shadow: 0px 1px 2px rgba(60, 64, 67, 0.3), 0px 1px 3px 1px rgba(60, 64, 67, 0.15);\n",
              "      fill: #174EA6;\n",
              "    }\n",
              "\n",
              "    [theme=dark] .colab-df-convert {\n",
              "      background-color: #3B4455;\n",
              "      fill: #D2E3FC;\n",
              "    }\n",
              "\n",
              "    [theme=dark] .colab-df-convert:hover {\n",
              "      background-color: #434B5C;\n",
              "      box-shadow: 0px 1px 3px 1px rgba(0, 0, 0, 0.15);\n",
              "      filter: drop-shadow(0px 1px 2px rgba(0, 0, 0, 0.3));\n",
              "      fill: #FFFFFF;\n",
              "    }\n",
              "  </style>\n",
              "\n",
              "      <script>\n",
              "        const buttonEl =\n",
              "          document.querySelector('#df-42723616-9ce2-4937-9e2d-0041c445ff41 button.colab-df-convert');\n",
              "        buttonEl.style.display =\n",
              "          google.colab.kernel.accessAllowed ? 'block' : 'none';\n",
              "\n",
              "        async function convertToInteractive(key) {\n",
              "          const element = document.querySelector('#df-42723616-9ce2-4937-9e2d-0041c445ff41');\n",
              "          const dataTable =\n",
              "            await google.colab.kernel.invokeFunction('convertToInteractive',\n",
              "                                                     [key], {});\n",
              "          if (!dataTable) return;\n",
              "\n",
              "          const docLinkHtml = 'Like what you see? Visit the ' +\n",
              "            '<a target=\"_blank\" href=https://colab.research.google.com/notebooks/data_table.ipynb>data table notebook</a>'\n",
              "            + ' to learn more about interactive tables.';\n",
              "          element.innerHTML = '';\n",
              "          dataTable['output_type'] = 'display_data';\n",
              "          await google.colab.output.renderOutput(dataTable, element);\n",
              "          const docLink = document.createElement('div');\n",
              "          docLink.innerHTML = docLinkHtml;\n",
              "          element.appendChild(docLink);\n",
              "        }\n",
              "      </script>\n",
              "    </div>\n",
              "  </div>\n",
              "  "
            ]
          },
          "metadata": {},
          "execution_count": 9
        }
      ]
    },
    {
      "cell_type": "code",
      "source": [
        "# assert all(times.groupby(['n', 'p', 'random_state']).apply(lambda g: g['motifs'].values.std()==0))\n",
        "assert all(times.groupby(['n', 'p', 'random_state']).apply(lambda g: len(np.unique(np.vstack(g['motifs']), axis=0))) == 1)"
      ],
      "metadata": {
        "id": "z3qWR_TuWQ2j"
      },
      "execution_count": 10,
      "outputs": []
    },
    {
      "cell_type": "code",
      "source": [
        "times.to_csv(f\"gpu-speedup-times.Colab.{pd.Timestamp.now().strftime('(%y%m%d.%H%M%S)')}.csv\", index=False)"
      ],
      "metadata": {
        "id": "LllRZScyhK4I"
      },
      "execution_count": 11,
      "outputs": []
    },
    {
      "cell_type": "markdown",
      "source": [
        "## Results"
      ],
      "metadata": {
        "id": "F4Q7ahRyBQN7"
      }
    },
    {
      "cell_type": "code",
      "source": [
        "import seaborn as sns\n",
        "\n",
        "%config InlineBackend.figure_format='retina'"
      ],
      "metadata": {
        "id": "31G3iI9jfOJl"
      },
      "execution_count": 12,
      "outputs": []
    },
    {
      "cell_type": "code",
      "source": [
        "sns.relplot(x='n', y='computation_time', hue='p', col='device', data=times, \n",
        "            kind='line', markers=True, style='device', dashes=False, palette='Blues', height=3.2)"
      ],
      "metadata": {
        "id": "_3G2kdbxfUJN",
        "colab": {
          "base_uri": "https://localhost:8080/",
          "height": 256
        },
        "outputId": "eb8fc168-d10b-4f3d-fb6e-05abddc1119d"
      },
      "execution_count": 38,
      "outputs": [
        {
          "output_type": "execute_result",
          "data": {
            "text/plain": [
              "<seaborn.axisgrid.FacetGrid at 0x7fd6a957c590>"
            ]
          },
          "metadata": {},
          "execution_count": 38
        },
        {
          "output_type": "display_data",
          "data": {
            "text/plain": [
              "<Figure size 530.8x230.4 with 2 Axes>"
            ],
            "image/png": "[encoded data removed]"
          },
          "metadata": {
            "image/png": {
              "width": 522,
              "height": 221
            },
            "needs_background": "light"
          }
        }
      ]
    },
    {
      "cell_type": "code",
      "source": [
        "speedup = times.groupby(['n', 'p', 'device', 'random_state'])['computation_time'].mean().unstack(['device']) \\\n",
        "  .assign(speedup=lambda df: df['/CPU:0']/df['/GPU:0']).reset_index() \\\n",
        "  .assign(device='Tesla K80')\n",
        "\n",
        "sns.relplot(x='n', y='speedup', hue='device', style='device', data=speedup,\n",
        "            kind='line', markers=True, height=3.2, aspect=2)"
      ],
      "metadata": {
        "id": "C3zqIgHU5wr0",
        "colab": {
          "base_uri": "https://localhost:8080/",
          "height": 257
        },
        "outputId": "bad646bb-7b52-4c41-bcb8-439979644c15"
      },
      "execution_count": 39,
      "outputs": [
        {
          "output_type": "execute_result",
          "data": {
            "text/plain": [
              "<seaborn.axisgrid.FacetGrid at 0x7fd6a9412510>"
            ]
          },
          "metadata": {},
          "execution_count": 39
        },
        {
          "output_type": "display_data",
          "data": {
            "text/plain": [
              "<Figure size 543.55x230.4 with 1 Axes>"
            ],
            "image/png": "[encoded data removed]"
          },
          "metadata": {
            "image/png": {
              "width": 533,
              "height": 222
            },
            "needs_background": "light"
          }
        }
      ]
    },
    {
      "cell_type": "code",
      "source": [
        "# import altair as alt\n",
        "#\n",
        "# alt.Chart(times).mark_line().encode(\n",
        "#   x='n', \n",
        "#   y='time', \n",
        "#   color='p', \n",
        "#   column='device', \n",
        "# )"
      ],
      "metadata": {
        "id": "Gd8sRtfZgddW"
      },
      "execution_count": 15,
      "outputs": []
    },
    {
      "cell_type": "markdown",
      "source": [
        "## Appendix"
      ],
      "metadata": {
        "id": "Vlh7279yA-Xr"
      }
    },
    {
      "cell_type": "code",
      "source": [
        "# https://www.tutorialspoint.com/google_colab/google_colab_using_free_gpu.htm\n",
        "\n",
        "from tensorflow.python.client import device_lib\n",
        "[print('\\n', d) for d in device_lib.list_local_devices()]\n",
        "# tf.config.list_physical_devices()\n",
        "# {d.name: d.physical_device_desc for d in device_lib.list_local_devices()}"
      ],
      "metadata": {
        "id": "aDY0mVngquiI",
        "colab": {
          "base_uri": "https://localhost:8080/"
        },
        "outputId": "f33a046e-b36c-4961-f11d-5e81a2fec80a"
      },
      "execution_count": 16,
      "outputs": [
        {
          "output_type": "stream",
          "name": "stdout",
          "text": [
            "\n",
            " name: \"/device:CPU:0\"\n",
            "device_type: \"CPU\"\n",
            "memory_limit: 268435456\n",
            "locality {\n",
            "}\n",
            "incarnation: 17223755326749113458\n",
            "xla_global_id: -1\n",
            "\n",
            "\n",
            " name: \"/device:GPU:0\"\n",
            "device_type: \"GPU\"\n",
            "memory_limit: 11320098816\n",
            "locality {\n",
            "  bus_id: 1\n",
            "  links {\n",
            "  }\n",
            "}\n",
            "incarnation: 11936521721029135113\n",
            "physical_device_desc: \"device: 0, name: Tesla K80, pci bus id: 0000:00:04.0, compute capability: 3.7\"\n",
            "xla_global_id: 416903419\n",
            "\n"
          ]
        },
        {
          "output_type": "execute_result",
          "data": {
            "text/plain": [
              "[None, None]"
            ]
          },
          "metadata": {},
          "execution_count": 16
        }
      ]
    },
    {
      "cell_type": "code",
      "source": [
        "# logging.getLogger('netsci.metrics.motifs_gpu').setLevel(logging.DEBUG)\n",
        "\n",
        "# df = experiments.iloc[-(n_repetitions+2):-(n_repetitions-1)]\n",
        "# display(df)\n",
        "# df = df.join(\n",
        "#     df\n",
        "#     .progress_apply(lambda r: measure(erdos_renyi(r.n, r.p, random_state=r.random_state), r.device), axis=1) \\\n",
        "#     .apply(pd.Series)\n",
        "# )\n",
        "\n",
        "# logging.getLogger('netsci.metrics.motifs_gpu').setLevel(logging.INFO)\n",
        "# df"
      ],
      "metadata": {
        "id": "2TYUYuBuKKqm"
      },
      "execution_count": 17,
      "outputs": []
    }
  ]
}